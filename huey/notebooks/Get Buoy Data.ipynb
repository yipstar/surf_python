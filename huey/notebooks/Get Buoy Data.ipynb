{
 "cells": [
  {
   "cell_type": "code",
   "execution_count": 1,
   "metadata": {},
   "outputs": [],
   "source": [
    "%load_ext autoreload\n",
    "%autoreload 2\n",
    "%matplotlib inline"
   ]
  },
  {
   "cell_type": "code",
   "execution_count": 2,
   "metadata": {},
   "outputs": [],
   "source": [
    "import numpy as np\n",
    "import pandas as pd\n",
    "import os"
   ]
  },
  {
   "cell_type": "code",
   "execution_count": 4,
   "metadata": {},
   "outputs": [],
   "source": [
    "url = \"https://sdf.ndbc.noaa.gov/sos/server.php?request=GetObservation&service=SOS&version=1.0.0&offering=urn:ioos:station:wmo:42040&observedproperty=Waves&responseformat=text/csv&eventtime=2011-12-01T00:50Z\"\n"
   ]
  },
  {
   "cell_type": "code",
   "execution_count": 5,
   "metadata": {},
   "outputs": [],
   "source": [
    "df = pd.read_csv(url)"
   ]
  },
  {
   "cell_type": "code",
   "execution_count": 7,
   "metadata": {},
   "outputs": [
    {
     "data": {
      "text/plain": [
       "Index(['station_id', 'sensor_id', 'latitude (degree)', 'longitude (degree)',\n",
       "       'date_time', 'sea_surface_wave_significant_height (m)',\n",
       "       'sea_surface_wave_peak_period (s)', 'sea_surface_wave_mean_period (s)',\n",
       "       'sea_surface_swell_wave_significant_height (m)',\n",
       "       'sea_surface_swell_wave_period (s)',\n",
       "       'sea_surface_wind_wave_significant_height (m)',\n",
       "       'sea_surface_wind_wave_period (s)', 'sea_water_temperature (c)',\n",
       "       'sea_surface_wave_to_direction (degree)',\n",
       "       'sea_surface_swell_wave_to_direction (degree)',\n",
       "       'sea_surface_wind_wave_to_direction (degree)',\n",
       "       'number_of_frequencies (count)', 'center_frequencies (Hz)',\n",
       "       'bandwidths (Hz)', 'spectral_energy (m**2/Hz)',\n",
       "       'mean_wave_direction (degree)', 'principal_wave_direction (degree)',\n",
       "       'polar_coordinate_r1 (1)', 'polar_coordinate_r2 (1)',\n",
       "       'calculation_method', 'sampling_rate (Hz)'],\n",
       "      dtype='object')"
      ]
     },
     "execution_count": 7,
     "metadata": {},
     "output_type": "execute_result"
    }
   ],
   "source": [
    "df.columns"
   ]
  },
  {
   "cell_type": "code",
   "execution_count": 9,
   "metadata": {},
   "outputs": [
    {
     "data": {
      "text/html": [
       "<div>\n",
       "<style scoped>\n",
       "    .dataframe tbody tr th:only-of-type {\n",
       "        vertical-align: middle;\n",
       "    }\n",
       "\n",
       "    .dataframe tbody tr th {\n",
       "        vertical-align: top;\n",
       "    }\n",
       "\n",
       "    .dataframe thead th {\n",
       "        text-align: right;\n",
       "    }\n",
       "</style>\n",
       "<table border=\"1\" class=\"dataframe\">\n",
       "  <thead>\n",
       "    <tr style=\"text-align: right;\">\n",
       "      <th></th>\n",
       "      <th>station_id</th>\n",
       "      <th>sensor_id</th>\n",
       "      <th>latitude (degree)</th>\n",
       "      <th>longitude (degree)</th>\n",
       "      <th>date_time</th>\n",
       "      <th>sea_surface_wave_significant_height (m)</th>\n",
       "      <th>sea_surface_wave_peak_period (s)</th>\n",
       "      <th>sea_surface_wave_mean_period (s)</th>\n",
       "      <th>sea_surface_swell_wave_significant_height (m)</th>\n",
       "      <th>sea_surface_swell_wave_period (s)</th>\n",
       "      <th>...</th>\n",
       "      <th>number_of_frequencies (count)</th>\n",
       "      <th>center_frequencies (Hz)</th>\n",
       "      <th>bandwidths (Hz)</th>\n",
       "      <th>spectral_energy (m**2/Hz)</th>\n",
       "      <th>mean_wave_direction (degree)</th>\n",
       "      <th>principal_wave_direction (degree)</th>\n",
       "      <th>polar_coordinate_r1 (1)</th>\n",
       "      <th>polar_coordinate_r2 (1)</th>\n",
       "      <th>calculation_method</th>\n",
       "      <th>sampling_rate (Hz)</th>\n",
       "    </tr>\n",
       "  </thead>\n",
       "  <tbody>\n",
       "    <tr>\n",
       "      <th>0</th>\n",
       "      <td>urn:ioos:station:wmo:42040</td>\n",
       "      <td>urn:ioos:sensor:wmo:42040::wpm1</td>\n",
       "      <td>29.208</td>\n",
       "      <td>-88.226</td>\n",
       "      <td>2011-12-01T00:50:00Z</td>\n",
       "      <td>0.8</td>\n",
       "      <td>4.17</td>\n",
       "      <td>3.77</td>\n",
       "      <td>0.1</td>\n",
       "      <td>NaN</td>\n",
       "      <td>...</td>\n",
       "      <td>46</td>\n",
       "      <td>0.0325;0.0375;0.0425;0.0475;0.0525;0.0575;0.06...</td>\n",
       "      <td>0.0050;0.0050;0.0050;0.0050;0.0050;0.0050;0.00...</td>\n",
       "      <td>0;0;0;0;0;0;0;0;0;0;0;0;0;0;0.00105208;0.00444...</td>\n",
       "      <td>357.0;315.0;319.0;345.0;351.0;350.0;1.0;348.0;...</td>\n",
       "      <td>351.0;350.0;345.0;344.0;348.0;348.0;345.0;343....</td>\n",
       "      <td>0.226116;0.128895;0.126579;0.143708;0.411314;0...</td>\n",
       "      <td>0.790019;0.83418;0.790019;0.819192;0.849442;0....</td>\n",
       "      <td>UNKNOWN</td>\n",
       "      <td>NaN</td>\n",
       "    </tr>\n",
       "  </tbody>\n",
       "</table>\n",
       "<p>1 rows × 26 columns</p>\n",
       "</div>"
      ],
      "text/plain": [
       "                   station_id                        sensor_id  \\\n",
       "0  urn:ioos:station:wmo:42040  urn:ioos:sensor:wmo:42040::wpm1   \n",
       "\n",
       "   latitude (degree)  longitude (degree)             date_time  \\\n",
       "0             29.208             -88.226  2011-12-01T00:50:00Z   \n",
       "\n",
       "   sea_surface_wave_significant_height (m)  sea_surface_wave_peak_period (s)  \\\n",
       "0                                      0.8                              4.17   \n",
       "\n",
       "   sea_surface_wave_mean_period (s)  \\\n",
       "0                              3.77   \n",
       "\n",
       "   sea_surface_swell_wave_significant_height (m)  \\\n",
       "0                                            0.1   \n",
       "\n",
       "   sea_surface_swell_wave_period (s)        ...          \\\n",
       "0                                NaN        ...           \n",
       "\n",
       "   number_of_frequencies (count)  \\\n",
       "0                             46   \n",
       "\n",
       "                             center_frequencies (Hz)  \\\n",
       "0  0.0325;0.0375;0.0425;0.0475;0.0525;0.0575;0.06...   \n",
       "\n",
       "                                     bandwidths (Hz)  \\\n",
       "0  0.0050;0.0050;0.0050;0.0050;0.0050;0.0050;0.00...   \n",
       "\n",
       "                           spectral_energy (m**2/Hz)  \\\n",
       "0  0;0;0;0;0;0;0;0;0;0;0;0;0;0;0.00105208;0.00444...   \n",
       "\n",
       "                        mean_wave_direction (degree)  \\\n",
       "0  357.0;315.0;319.0;345.0;351.0;350.0;1.0;348.0;...   \n",
       "\n",
       "                   principal_wave_direction (degree)  \\\n",
       "0  351.0;350.0;345.0;344.0;348.0;348.0;345.0;343....   \n",
       "\n",
       "                             polar_coordinate_r1 (1)  \\\n",
       "0  0.226116;0.128895;0.126579;0.143708;0.411314;0...   \n",
       "\n",
       "                             polar_coordinate_r2 (1) calculation_method  \\\n",
       "0  0.790019;0.83418;0.790019;0.819192;0.849442;0....            UNKNOWN   \n",
       "\n",
       "  sampling_rate (Hz)  \n",
       "0                NaN  \n",
       "\n",
       "[1 rows x 26 columns]"
      ]
     },
     "execution_count": 9,
     "metadata": {},
     "output_type": "execute_result"
    }
   ],
   "source": [
    "df"
   ]
  },
  {
   "cell_type": "code",
   "execution_count": 63,
   "metadata": {},
   "outputs": [
    {
     "data": {
      "text/html": [
       "<div>\n",
       "<style scoped>\n",
       "    .dataframe tbody tr th:only-of-type {\n",
       "        vertical-align: middle;\n",
       "    }\n",
       "\n",
       "    .dataframe tbody tr th {\n",
       "        vertical-align: top;\n",
       "    }\n",
       "\n",
       "    .dataframe thead th {\n",
       "        text-align: right;\n",
       "    }\n",
       "</style>\n",
       "<table border=\"1\" class=\"dataframe\">\n",
       "  <thead>\n",
       "    <tr style=\"text-align: right;\">\n",
       "      <th></th>\n",
       "      <th>station_id</th>\n",
       "      <th>sensor_id</th>\n",
       "      <th>latitude (degree)</th>\n",
       "      <th>longitude (degree)</th>\n",
       "      <th>date_time</th>\n",
       "      <th>sea_surface_wave_significant_height (m)</th>\n",
       "      <th>sea_surface_wave_peak_period (s)</th>\n",
       "      <th>sea_surface_wave_mean_period (s)</th>\n",
       "      <th>sea_surface_swell_wave_significant_height (m)</th>\n",
       "      <th>sea_surface_swell_wave_period (s)</th>\n",
       "      <th>...</th>\n",
       "      <th>number_of_frequencies (count)</th>\n",
       "      <th>center_frequencies (Hz)</th>\n",
       "      <th>bandwidths (Hz)</th>\n",
       "      <th>spectral_energy (m**2/Hz)</th>\n",
       "      <th>mean_wave_direction (degree)</th>\n",
       "      <th>principal_wave_direction (degree)</th>\n",
       "      <th>polar_coordinate_r1 (1)</th>\n",
       "      <th>polar_coordinate_r2 (1)</th>\n",
       "      <th>calculation_method</th>\n",
       "      <th>sampling_rate (Hz)</th>\n",
       "    </tr>\n",
       "  </thead>\n",
       "  <tbody>\n",
       "  </tbody>\n",
       "</table>\n",
       "<p>0 rows × 26 columns</p>\n",
       "</div>"
      ],
      "text/plain": [
       "Empty DataFrame\n",
       "Columns: [station_id, sensor_id, latitude (degree), longitude (degree), date_time, sea_surface_wave_significant_height (m), sea_surface_wave_peak_period (s), sea_surface_wave_mean_period (s), sea_surface_swell_wave_significant_height (m), sea_surface_swell_wave_period (s), sea_surface_wind_wave_significant_height (m), sea_surface_wind_wave_period (s), sea_water_temperature (c), sea_surface_wave_to_direction (degree), sea_surface_swell_wave_to_direction (degree), sea_surface_wind_wave_to_direction (degree), number_of_frequencies (count), center_frequencies (Hz), bandwidths (Hz), spectral_energy (m**2/Hz), mean_wave_direction (degree), principal_wave_direction (degree), polar_coordinate_r1 (1), polar_coordinate_r2 (1), calculation_method, sampling_rate (Hz)]\n",
       "Index: []\n",
       "\n",
       "[0 rows x 26 columns]"
      ]
     },
     "execution_count": 63,
     "metadata": {},
     "output_type": "execute_result"
    }
   ],
   "source": [
    "url4 = \"https://sdf.ndbc.noaa.gov/sos/server.php?request=GetObservation&service=SOS&version=1.0.0&offering=urn:ioos:station:wmo:42040&observedproperty=Waves&responseformat=text/csv&eventtime=2019-06-24T00:00Z\"\n",
    "df4 = pd.read_csv(url4)\n",
    "df4.head()"
   ]
  },
  {
   "cell_type": "code",
   "execution_count": 54,
   "metadata": {},
   "outputs": [],
   "source": [
    "url2 = \"https://sdf.ndbc.noaa.gov/sos/server.php?request=GetObservation&service=SOS&version=1.0.0&offering=urn:ioos:station:wmo:46025&observedproperty=Waves&responseformat=text/csv&eventtime=latest\""
   ]
  },
  {
   "cell_type": "code",
   "execution_count": 55,
   "metadata": {},
   "outputs": [],
   "source": [
    "df2 = pd.read_csv(url2)"
   ]
  },
  {
   "cell_type": "code",
   "execution_count": 56,
   "metadata": {},
   "outputs": [
    {
     "data": {
      "text/html": [
       "<div>\n",
       "<style scoped>\n",
       "    .dataframe tbody tr th:only-of-type {\n",
       "        vertical-align: middle;\n",
       "    }\n",
       "\n",
       "    .dataframe tbody tr th {\n",
       "        vertical-align: top;\n",
       "    }\n",
       "\n",
       "    .dataframe thead th {\n",
       "        text-align: right;\n",
       "    }\n",
       "</style>\n",
       "<table border=\"1\" class=\"dataframe\">\n",
       "  <thead>\n",
       "    <tr style=\"text-align: right;\">\n",
       "      <th></th>\n",
       "      <th>station_id</th>\n",
       "      <th>sensor_id</th>\n",
       "      <th>latitude (degree)</th>\n",
       "      <th>longitude (degree)</th>\n",
       "      <th>date_time</th>\n",
       "      <th>sea_surface_wave_significant_height (m)</th>\n",
       "      <th>sea_surface_wave_peak_period (s)</th>\n",
       "      <th>sea_surface_wave_mean_period (s)</th>\n",
       "      <th>sea_surface_swell_wave_significant_height (m)</th>\n",
       "      <th>sea_surface_swell_wave_period (s)</th>\n",
       "      <th>...</th>\n",
       "      <th>number_of_frequencies (count)</th>\n",
       "      <th>center_frequencies (Hz)</th>\n",
       "      <th>bandwidths (Hz)</th>\n",
       "      <th>spectral_energy (m**2/Hz)</th>\n",
       "      <th>mean_wave_direction (degree)</th>\n",
       "      <th>principal_wave_direction (degree)</th>\n",
       "      <th>polar_coordinate_r1 (1)</th>\n",
       "      <th>polar_coordinate_r2 (1)</th>\n",
       "      <th>calculation_method</th>\n",
       "      <th>sampling_rate (Hz)</th>\n",
       "    </tr>\n",
       "  </thead>\n",
       "  <tbody>\n",
       "    <tr>\n",
       "      <th>0</th>\n",
       "      <td>urn:ioos:station:wmo:46025</td>\n",
       "      <td>urn:ioos:sensor:wmo:46025::wpm1</td>\n",
       "      <td>33.761</td>\n",
       "      <td>-119.049</td>\n",
       "      <td>2016-07-25T22:50:00Z</td>\n",
       "      <td>0.89</td>\n",
       "      <td>14.81</td>\n",
       "      <td>7.47</td>\n",
       "      <td>0.87</td>\n",
       "      <td>14.8</td>\n",
       "      <td>...</td>\n",
       "      <td>46</td>\n",
       "      <td>0.0325;0.0375;0.0425;0.0475;0.0525;0.0575;0.06...</td>\n",
       "      <td>0.0050;0.0050;0.0050;0.0050;0.0050;0.0050;0.00...</td>\n",
       "      <td>0;0;0;0;0.0219477;0.188188;0.685061;0.818447;0...</td>\n",
       "      <td>146.0;330.0;335.0;310.0;218.0;202.0;158.0;166....</td>\n",
       "      <td>155.0;336.0;346.0;309.0;294.0;291.0;121.0;232....</td>\n",
       "      <td>0.683354;0.708588;0.659019;0.276023;0.178636;0...</td>\n",
       "      <td>0.864984;0.864984;0.721552;0.54974;0.601904;0....</td>\n",
       "      <td>UNKNOWN</td>\n",
       "      <td>NaN</td>\n",
       "    </tr>\n",
       "  </tbody>\n",
       "</table>\n",
       "<p>1 rows × 26 columns</p>\n",
       "</div>"
      ],
      "text/plain": [
       "                   station_id                        sensor_id  \\\n",
       "0  urn:ioos:station:wmo:46025  urn:ioos:sensor:wmo:46025::wpm1   \n",
       "\n",
       "   latitude (degree)  longitude (degree)             date_time  \\\n",
       "0             33.761            -119.049  2016-07-25T22:50:00Z   \n",
       "\n",
       "   sea_surface_wave_significant_height (m)  sea_surface_wave_peak_period (s)  \\\n",
       "0                                     0.89                             14.81   \n",
       "\n",
       "   sea_surface_wave_mean_period (s)  \\\n",
       "0                              7.47   \n",
       "\n",
       "   sea_surface_swell_wave_significant_height (m)  \\\n",
       "0                                           0.87   \n",
       "\n",
       "   sea_surface_swell_wave_period (s)        ...          \\\n",
       "0                               14.8        ...           \n",
       "\n",
       "   number_of_frequencies (count)  \\\n",
       "0                             46   \n",
       "\n",
       "                             center_frequencies (Hz)  \\\n",
       "0  0.0325;0.0375;0.0425;0.0475;0.0525;0.0575;0.06...   \n",
       "\n",
       "                                     bandwidths (Hz)  \\\n",
       "0  0.0050;0.0050;0.0050;0.0050;0.0050;0.0050;0.00...   \n",
       "\n",
       "                           spectral_energy (m**2/Hz)  \\\n",
       "0  0;0;0;0;0.0219477;0.188188;0.685061;0.818447;0...   \n",
       "\n",
       "                        mean_wave_direction (degree)  \\\n",
       "0  146.0;330.0;335.0;310.0;218.0;202.0;158.0;166....   \n",
       "\n",
       "                   principal_wave_direction (degree)  \\\n",
       "0  155.0;336.0;346.0;309.0;294.0;291.0;121.0;232....   \n",
       "\n",
       "                             polar_coordinate_r1 (1)  \\\n",
       "0  0.683354;0.708588;0.659019;0.276023;0.178636;0...   \n",
       "\n",
       "                             polar_coordinate_r2 (1) calculation_method  \\\n",
       "0  0.864984;0.864984;0.721552;0.54974;0.601904;0....            UNKNOWN   \n",
       "\n",
       "  sampling_rate (Hz)  \n",
       "0                NaN  \n",
       "\n",
       "[1 rows x 26 columns]"
      ]
     },
     "execution_count": 56,
     "metadata": {},
     "output_type": "execute_result"
    }
   ],
   "source": [
    "df2.head()"
   ]
  },
  {
   "cell_type": "code",
   "execution_count": 57,
   "metadata": {},
   "outputs": [
    {
     "data": {
      "text/plain": [
       "[0.0325,\n",
       " 0.0375,\n",
       " 0.0425,\n",
       " 0.0475,\n",
       " 0.0525,\n",
       " 0.0575,\n",
       " 0.0625,\n",
       " 0.0675,\n",
       " 0.0725,\n",
       " 0.0775,\n",
       " 0.0825,\n",
       " 0.0875,\n",
       " 0.0925,\n",
       " 0.1,\n",
       " 0.11,\n",
       " 0.12,\n",
       " 0.13,\n",
       " 0.14,\n",
       " 0.15,\n",
       " 0.16,\n",
       " 0.17,\n",
       " 0.18,\n",
       " 0.19,\n",
       " 0.2,\n",
       " 0.21,\n",
       " 0.22,\n",
       " 0.23,\n",
       " 0.24,\n",
       " 0.25,\n",
       " 0.26,\n",
       " 0.27,\n",
       " 0.28,\n",
       " 0.29,\n",
       " 0.3,\n",
       " 0.31,\n",
       " 0.32,\n",
       " 0.33,\n",
       " 0.34,\n",
       " 0.35,\n",
       " 0.365,\n",
       " 0.385,\n",
       " 0.405,\n",
       " 0.425,\n",
       " 0.445,\n",
       " 0.465,\n",
       " 0.485]"
      ]
     },
     "execution_count": 57,
     "metadata": {},
     "output_type": "execute_result"
    }
   ],
   "source": [
    "freq = df2.iloc[0]['center_frequencies (Hz)']\n",
    "freq = freq.split(\";\")\n",
    "freq = [float(i) for i in freq]\n",
    "freq"
   ]
  },
  {
   "cell_type": "code",
   "execution_count": 58,
   "metadata": {},
   "outputs": [
    {
     "data": {
      "text/plain": [
       "[0.0,\n",
       " 0.0,\n",
       " 0.0,\n",
       " 0.0,\n",
       " 0.0219477,\n",
       " 0.188188,\n",
       " 0.685061,\n",
       " 0.818447,\n",
       " 0.571618,\n",
       " 0.454735,\n",
       " 0.218704,\n",
       " 0.40516,\n",
       " 0.674484,\n",
       " 0.685657,\n",
       " 0.281403,\n",
       " 0.20622,\n",
       " 0.200447,\n",
       " 0.239106,\n",
       " 0.181505,\n",
       " 0.180813,\n",
       " 0.235803,\n",
       " 0.145576,\n",
       " 0.0877366,\n",
       " 0.0768371,\n",
       " 0.058792,\n",
       " 0.0245071,\n",
       " 0.0380004,\n",
       " 0.0370549,\n",
       " 0.0405665,\n",
       " 0.0278962,\n",
       " 0.0248732,\n",
       " 0.0160905,\n",
       " 0.0240897,\n",
       " 0.0131285,\n",
       " 0.0103278,\n",
       " 0.00978027,\n",
       " 0.00999741,\n",
       " 0.0064017,\n",
       " 0.00549782,\n",
       " 0.00201694,\n",
       " 0.00238463,\n",
       " 0.00171407,\n",
       " 0.00174731,\n",
       " 0.00133329,\n",
       " 0.00259284,\n",
       " 0.00321422]"
      ]
     },
     "execution_count": 58,
     "metadata": {},
     "output_type": "execute_result"
    }
   ],
   "source": [
    "energy = df2.iloc[0]['spectral_energy (m**2/Hz)']\n",
    "energy = energy.split(\";\")\n",
    "energy = [float(i) for i in energy]\n",
    "energy"
   ]
  },
  {
   "cell_type": "code",
   "execution_count": 59,
   "metadata": {},
   "outputs": [
    {
     "data": {
      "text/plain": [
       "[<matplotlib.lines.Line2D at 0x7ffcc0e71470>]"
      ]
     },
     "execution_count": 59,
     "metadata": {},
     "output_type": "execute_result"
    },
    {
     "data": {
      "image/png": "[encoded data removed]",
      "text/plain": [
       "<matplotlib.figure.Figure at 0x7ffcf026a1d0>"
      ]
     },
     "metadata": {
      "needs_background": "light"
     },
     "output_type": "display_data"
    }
   ],
   "source": [
    "import matplotlib.pyplot as plt\n",
    "plt.plot(freq, energy)"
   ]
  },
  {
   "cell_type": "code",
   "execution_count": 67,
   "metadata": {},
   "outputs": [
    {
     "data": {
      "text/plain": [
       "[<matplotlib.lines.Line2D at 0x7ffcb834ada0>]"
      ]
     },
     "execution_count": 67,
     "metadata": {},
     "output_type": "execute_result"
    },
    {
     "data": {
      "image/png": "[encoded data removed]",
      "text/plain": [
       "<matplotlib.figure.Figure at 0x7ffce1fae240>"
      ]
     },
     "metadata": {
      "needs_background": "light"
     },
     "output_type": "display_data"
    }
   ],
   "source": [
    "# https://www.ndbc.noaa.gov/data/realtime2/46025.data_spec\n",
    "\n",
    "x = [0.033, 0.038, 0.043, 0.048, 0.053, 0.058, 0.063, 0.068, 0.073, 0.078, 0.083, 0.088, 0.093, 0.100, 0.110, 0.120, 0.130, 0.140, 0.150, 0.160, 0.170, 0.180, 0.190, 0.200, 0.210, 0.220, 0.230, 0.240, 0.250, 0.260, 0.270, 0.280, 0.290, 0.300, 0.310, 0.320, 0.330, 0.340, 0.350, 0.365, 0.385, 0.405, 0.425, 0.445, 0.465, 0.485]\n",
    "\n",
    "y = [0.000, 0.000, 0.000, 0.000, 0.020, 0.148, 0.250, 0.281, 0.454, 0.510, 0.291, 0.250, 0.224, 0.245, 0.076, 0.097, 0.061, 0.031, 0.020, 0.020, 0.026, 0.026, 0.031, 0.031, 0.020, 0.015, 0.026, 0.026, 0.026, 0.020, 0.015, 0.015, 0.020, 0.015, 0.010, 0.010, 0.015, 0.005, 0.010, 0.005, 0.005, 0.000, 0.005, 0.000, 0.000, 0.000]\n",
    "\n",
    "plt.plot(x, y)"
   ]
  },
  {
   "cell_type": "code",
   "execution_count": 120,
   "metadata": {},
   "outputs": [
    {
     "data": {
      "image/png": "[encoded data removed]",
      "text/plain": [
       "<matplotlib.figure.Figure at 0x7ffcd082d0f0>"
      ]
     },
     "metadata": {
      "needs_background": "light"
     },
     "output_type": "display_data"
    }
   ],
   "source": [
    "fig = plt.figure()\n",
    "ax1 = fig.add_subplot(111)\n",
    "ax2 = ax1.twiny()\n",
    "\n",
    "X = np.linspace(0,1,1000)\n",
    "Y = np.cos(X*20)\n",
    "\n",
    "ax1.plot(X,Y)\n",
    "ax1.set_xlabel(r\"Original x-axis: $X$\")\n",
    "\n",
    "new_tick_locations = np.array([.2, .5, .9])\n",
    "\n",
    "def tick_function(X):\n",
    "    V = 1/(1+X)\n",
    "    return [\"%.3f\" % z for z in V]\n",
    "\n",
    "ax2.set_xlim(ax1.get_xlim())\n",
    "ax2.set_xticks(new_tick_locations)\n",
    "#ax2.set_xticklabels(tick_function(new_tick_locations))\n",
    "#ax2.set_xlabel(r\"Modified x-axis: $1/(1+X)$\")\n",
    "plt.show()"
   ]
  },
  {
   "cell_type": "code",
   "execution_count": 101,
   "metadata": {},
   "outputs": [
    {
     "data": {
      "image/png": "[encoded data removed]",
      "text/plain": [
       "<matplotlib.figure.Figure at 0x7ffcc111c6a0>"
      ]
     },
     "metadata": {
      "needs_background": "light"
     },
     "output_type": "display_data"
    }
   ],
   "source": [
    "import numpy as np\n",
    "import matplotlib.pyplot as plt\n",
    "\n",
    "# Create some mock data\n",
    "t = np.arange(0.01, 10.0, 0.01)\n",
    "data1 = np.exp(t)\n",
    "data2 = np.sin(2 * np.pi * t)\n",
    "\n",
    "fig, ax1 = plt.subplots()\n",
    "\n",
    "color = 'tab:red'\n",
    "ax1.set_xlabel('time (s)')\n",
    "ax1.set_ylabel('exp', color=color)\n",
    "ax1.plot(t, data1, color=color)\n",
    "ax1.tick_params(axis='y', labelcolor=color)\n",
    "\n",
    "ax2 = ax1.twinx()  # instantiate a second axes that shares the same x-axis\n",
    "\n",
    "color = 'tab:blue'\n",
    "ax2.set_ylabel('sin', color=color)  # we already handled the x-label with ax1\n",
    "ax2.plot(t, data2, color=color)\n",
    "ax2.tick_params(axis='y', labelcolor=color)\n",
    "\n",
    "fig.tight_layout()  # otherwise the right y-label is slightly clipped\n",
    "\n",
    "plt.show()"
   ]
  },
  {
   "cell_type": "code",
   "execution_count": 107,
   "metadata": {},
   "outputs": [
    {
     "name": "stdout",
     "output_type": "stream",
     "text": [
      "[30.3030303  26.31578947 23.25581395 20.83333333 18.86792453 17.24137931\n",
      " 15.87301587 14.70588235 13.69863014 12.82051282 12.04819277 11.36363636\n",
      " 10.75268817 10.          9.09090909  8.33333333  7.69230769  7.14285714\n",
      "  6.66666667  6.25        5.88235294  5.55555556  5.26315789  5.\n",
      "  4.76190476  4.54545455  4.34782609  4.16666667  4.          3.84615385\n",
      "  3.7037037   3.57142857  3.44827586  3.33333333  3.22580645  3.125\n",
      "  3.03030303  2.94117647  2.85714286  2.73972603  2.5974026   2.4691358\n",
      "  2.35294118  2.24719101  2.15053763  2.06185567]\n"
     ]
    },
    {
     "data": {
      "image/png": "[encoded data removed]",
      "text/plain": [
       "<matplotlib.figure.Figure at 0x7ffcb846e208>"
      ]
     },
     "metadata": {
      "needs_background": "light"
     },
     "output_type": "display_data"
    }
   ],
   "source": [
    "period = 1 / np.array(x)\n",
    "print(period)\n",
    "\n",
    "fig, ax1 = plt.subplots()\n",
    "\n",
    "ax1.set_xlabel(\"Frequency (Hz)\")\n",
    "ax1.set_xlabel(\"m^2/Hz\")\n",
    "ax1.plot(x, y)\n",
    "\n",
    "ax2 = ax1.twiny()\n",
    "ax2.set_xlabel(\"Period (sec)\")\n",
    "#ax2.plot(x, period)\n",
    "\n",
    "x2labels = [20,15,10,9,8,7,6,5,4,3]\n",
    "\n",
    "ax2.set_xticklabels(x2labels)\n",
    "\n",
    "plt.show()"
   ]
  },
  {
   "cell_type": "code",
   "execution_count": 137,
   "metadata": {},
   "outputs": [
    {
     "name": "stdout",
     "output_type": "stream",
     "text": [
      "[30.3030303  26.31578947 23.25581395 20.83333333 18.86792453 17.24137931\n",
      " 15.87301587 14.70588235 13.69863014 12.82051282 12.04819277 11.36363636\n",
      " 10.75268817 10.          9.09090909  8.33333333  7.69230769  7.14285714\n",
      "  6.66666667  6.25        5.88235294  5.55555556  5.26315789  5.\n",
      "  4.76190476  4.54545455  4.34782609  4.16666667  4.          3.84615385\n",
      "  3.7037037   3.57142857  3.44827586  3.33333333  3.22580645  3.125\n",
      "  3.03030303  2.94117647  2.85714286  2.73972603  2.5974026   2.4691358\n",
      "  2.35294118  2.24719101  2.15053763  2.06185567]\n"
     ]
    },
    {
     "data": {
      "image/png": "[encoded data removed]",
      "text/plain": [
       "<matplotlib.figure.Figure at 0x7ffcf0476320>"
      ]
     },
     "metadata": {
      "needs_background": "light"
     },
     "output_type": "display_data"
    }
   ],
   "source": [
    "def tick_function(x):\n",
    "    return 1.0/np.array(x)\n",
    "\n",
    "ticks = tick_function(x)\n",
    "print(ticks)\n",
    "\n",
    "fig = plt.figure(figsize=(12, 6))\n",
    "ax1 = fig.add_subplot(111)\n",
    "ax2 = ax1.twiny()\n",
    "\n",
    "ax1.plot(x, y)\n",
    "ax1.set_xlabel(\"Frequency (Hz)\")\n",
    "ax1.set_ylabel(\"m^2/Hz\")\n",
    "\n",
    "#new_tick_locations = np.array([.2, .5, .9])\n",
    "#new_tick_locations = [20,15,10,9,8,7,6,5,4,3]\n",
    "new_tick_locations = [.05, .0666, .1, .111, .125, .1428, .1666, .2, .25, .333]\n",
    "new_tick_labels = [20,15,10,9,8,7,6,5,4,3]\n",
    "\n",
    "ax2.set_xlim(ax1.get_xlim())\n",
    "ax2.set_xticks(new_tick_locations)\n",
    "#ax2.set_xticks(new_tick_locations)\n",
    "#ax2.set_xticklabels(tick_function(new_tick_locations))\n",
    "#ax2.set_xticklabels(tick_function(new_tick_locations))\n",
    "ax2.set_xticklabels(new_tick_labels)\n",
    "#ax2.set_xlabel(r\"Modified x-axis: $1/(1+X)$\")\n",
    "plt.show()"
   ]
  },
  {
   "cell_type": "code",
   "execution_count": 39,
   "metadata": {},
   "outputs": [],
   "source": [
    "url3 = \"https://www.ndbc.noaa.gov/data/hourly2/hour_00.spec\"\n",
    "df3 = pd.read_csv(url3, delim_whitespace=True)\n"
   ]
  },
  {
   "cell_type": "code",
   "execution_count": 40,
   "metadata": {},
   "outputs": [
    {
     "data": {
      "text/html": [
       "<div>\n",
       "<style scoped>\n",
       "    .dataframe tbody tr th:only-of-type {\n",
       "        vertical-align: middle;\n",
       "    }\n",
       "\n",
       "    .dataframe tbody tr th {\n",
       "        vertical-align: top;\n",
       "    }\n",
       "\n",
       "    .dataframe thead th {\n",
       "        text-align: right;\n",
       "    }\n",
       "</style>\n",
       "<table border=\"1\" class=\"dataframe\">\n",
       "  <thead>\n",
       "    <tr style=\"text-align: right;\">\n",
       "      <th></th>\n",
       "      <th>#STN</th>\n",
       "      <th>#YY</th>\n",
       "      <th>MM</th>\n",
       "      <th>DD</th>\n",
       "      <th>hh</th>\n",
       "      <th>mm</th>\n",
       "      <th>WVHT</th>\n",
       "      <th>SwH</th>\n",
       "      <th>SwP</th>\n",
       "      <th>WWH</th>\n",
       "      <th>WWP</th>\n",
       "      <th>SwD</th>\n",
       "      <th>WWD</th>\n",
       "      <th>STEEPNESS</th>\n",
       "      <th>APD</th>\n",
       "      <th>MWD</th>\n",
       "    </tr>\n",
       "  </thead>\n",
       "  <tbody>\n",
       "    <tr>\n",
       "      <th>0</th>\n",
       "      <td>-Sub</td>\n",
       "      <td>#yr</td>\n",
       "      <td>mo</td>\n",
       "      <td>dy</td>\n",
       "      <td>hr</td>\n",
       "      <td>mn</td>\n",
       "      <td>m</td>\n",
       "      <td>m</td>\n",
       "      <td>sec</td>\n",
       "      <td>m</td>\n",
       "      <td>sec</td>\n",
       "      <td>-</td>\n",
       "      <td>degT</td>\n",
       "      <td>-</td>\n",
       "      <td>sec</td>\n",
       "      <td>degT</td>\n",
       "    </tr>\n",
       "    <tr>\n",
       "      <th>1</th>\n",
       "      <td>41001</td>\n",
       "      <td>2019</td>\n",
       "      <td>06</td>\n",
       "      <td>21</td>\n",
       "      <td>00</td>\n",
       "      <td>40</td>\n",
       "      <td>2.6</td>\n",
       "      <td>0.0</td>\n",
       "      <td>MM</td>\n",
       "      <td>2.6</td>\n",
       "      <td>8.3</td>\n",
       "      <td>MM</td>\n",
       "      <td>WSW</td>\n",
       "      <td>STEEP</td>\n",
       "      <td>6.1</td>\n",
       "      <td>238</td>\n",
       "    </tr>\n",
       "    <tr>\n",
       "      <th>2</th>\n",
       "      <td>41002</td>\n",
       "      <td>2019</td>\n",
       "      <td>06</td>\n",
       "      <td>21</td>\n",
       "      <td>00</td>\n",
       "      <td>40</td>\n",
       "      <td>2.2</td>\n",
       "      <td>1.2</td>\n",
       "      <td>9.1</td>\n",
       "      <td>1.9</td>\n",
       "      <td>7.7</td>\n",
       "      <td>WSW</td>\n",
       "      <td>WSW</td>\n",
       "      <td>STEEP</td>\n",
       "      <td>5.8</td>\n",
       "      <td>245</td>\n",
       "    </tr>\n",
       "    <tr>\n",
       "      <th>3</th>\n",
       "      <td>41004</td>\n",
       "      <td>2019</td>\n",
       "      <td>06</td>\n",
       "      <td>21</td>\n",
       "      <td>00</td>\n",
       "      <td>40</td>\n",
       "      <td>1.6</td>\n",
       "      <td>0.1</td>\n",
       "      <td>12.9</td>\n",
       "      <td>1.6</td>\n",
       "      <td>5.9</td>\n",
       "      <td>SE</td>\n",
       "      <td>SW</td>\n",
       "      <td>VERY_STEEP</td>\n",
       "      <td>4.6</td>\n",
       "      <td>214</td>\n",
       "    </tr>\n",
       "    <tr>\n",
       "      <th>4</th>\n",
       "      <td>41008</td>\n",
       "      <td>2019</td>\n",
       "      <td>06</td>\n",
       "      <td>21</td>\n",
       "      <td>00</td>\n",
       "      <td>00</td>\n",
       "      <td>1.0</td>\n",
       "      <td>0.2</td>\n",
       "      <td>10.8</td>\n",
       "      <td>1.0</td>\n",
       "      <td>5.3</td>\n",
       "      <td>SSE</td>\n",
       "      <td>S</td>\n",
       "      <td>VERY_STEEP</td>\n",
       "      <td>4.0</td>\n",
       "      <td>171</td>\n",
       "    </tr>\n",
       "  </tbody>\n",
       "</table>\n",
       "</div>"
      ],
      "text/plain": [
       "    #STN   #YY  MM  DD  hh  mm WVHT  SwH   SwP  WWH  WWP  SwD   WWD  \\\n",
       "0   -Sub   #yr  mo  dy  hr  mn    m    m   sec    m  sec    -  degT   \n",
       "1  41001  2019  06  21  00  40  2.6  0.0    MM  2.6  8.3   MM   WSW   \n",
       "2  41002  2019  06  21  00  40  2.2  1.2   9.1  1.9  7.7  WSW   WSW   \n",
       "3  41004  2019  06  21  00  40  1.6  0.1  12.9  1.6  5.9   SE    SW   \n",
       "4  41008  2019  06  21  00  00  1.0  0.2  10.8  1.0  5.3  SSE     S   \n",
       "\n",
       "    STEEPNESS  APD   MWD  \n",
       "0           -  sec  degT  \n",
       "1       STEEP  6.1   238  \n",
       "2       STEEP  5.8   245  \n",
       "3  VERY_STEEP  4.6   214  \n",
       "4  VERY_STEEP  4.0   171  "
      ]
     },
     "execution_count": 40,
     "metadata": {},
     "output_type": "execute_result"
    }
   ],
   "source": [
    "df3.head()"
   ]
  },
  {
   "cell_type": "code",
   "execution_count": 42,
   "metadata": {},
   "outputs": [
    {
     "data": {
      "text/html": [
       "<div>\n",
       "<style scoped>\n",
       "    .dataframe tbody tr th:only-of-type {\n",
       "        vertical-align: middle;\n",
       "    }\n",
       "\n",
       "    .dataframe tbody tr th {\n",
       "        vertical-align: top;\n",
       "    }\n",
       "\n",
       "    .dataframe thead th {\n",
       "        text-align: right;\n",
       "    }\n",
       "</style>\n",
       "<table border=\"1\" class=\"dataframe\">\n",
       "  <thead>\n",
       "    <tr style=\"text-align: right;\">\n",
       "      <th></th>\n",
       "      <th>#STN</th>\n",
       "      <th>#YY</th>\n",
       "      <th>MM</th>\n",
       "      <th>DD</th>\n",
       "      <th>hh</th>\n",
       "      <th>mm</th>\n",
       "      <th>WVHT</th>\n",
       "      <th>SwH</th>\n",
       "      <th>SwP</th>\n",
       "      <th>WWH</th>\n",
       "      <th>WWP</th>\n",
       "      <th>SwD</th>\n",
       "      <th>WWD</th>\n",
       "      <th>STEEPNESS</th>\n",
       "      <th>APD</th>\n",
       "      <th>MWD</th>\n",
       "    </tr>\n",
       "  </thead>\n",
       "  <tbody>\n",
       "    <tr>\n",
       "      <th>196</th>\n",
       "      <td>46025</td>\n",
       "      <td>2019</td>\n",
       "      <td>06</td>\n",
       "      <td>21</td>\n",
       "      <td>00</td>\n",
       "      <td>40</td>\n",
       "      <td>0.6</td>\n",
       "      <td>0.6</td>\n",
       "      <td>13.8</td>\n",
       "      <td>0.1</td>\n",
       "      <td>4.0</td>\n",
       "      <td>SSW</td>\n",
       "      <td>SW</td>\n",
       "      <td>NaN</td>\n",
       "      <td>8.2</td>\n",
       "      <td>207</td>\n",
       "    </tr>\n",
       "  </tbody>\n",
       "</table>\n",
       "</div>"
      ],
      "text/plain": [
       "      #STN   #YY  MM  DD  hh  mm WVHT  SwH   SwP  WWH  WWP  SwD WWD STEEPNESS  \\\n",
       "196  46025  2019  06  21  00  40  0.6  0.6  13.8  0.1  4.0  SSW  SW       NaN   \n",
       "\n",
       "     APD  MWD  \n",
       "196  8.2  207  "
      ]
     },
     "execution_count": 42,
     "metadata": {},
     "output_type": "execute_result"
    }
   ],
   "source": [
    "df3[df3['#STN'] == \"46025\"]"
   ]
  },
  {
   "cell_type": "code",
   "execution_count": 49,
   "metadata": {},
   "outputs": [],
   "source": [
    "url4 = \"https://sdf.ndbc.noaa.gov/sos/server.php?request=GetObservation&service=SOS&version=1.0.0&offering=urn:ioos:network:noaa.nws.ndbc:all&observedproperty=Waves&responseformat=text/csv&eventtime=latest\"\n",
    "df4 = pd.read_csv(url4)"
   ]
  },
  {
   "cell_type": "code",
   "execution_count": null,
   "metadata": {},
   "outputs": [],
   "source": [
    "df4.head()"
   ]
  },
  {
   "cell_type": "code",
   "execution_count": 2,
   "metadata": {},
   "outputs": [
    {
     "ename": "NameError",
     "evalue": "name 'pd' is not defined",
     "output_type": "error",
     "traceback": [
      "\u001b[0;31m---------------------------------------------------------------------------\u001b[0m",
      "\u001b[0;31mNameError\u001b[0m                                 Traceback (most recent call last)",
      "\u001b[0;32m<ipython-input-2-df35845ab89e>\u001b[0m in \u001b[0;36m<module>\u001b[0;34m()\u001b[0m\n\u001b[1;32m      1\u001b[0m \u001b[0mrealtime_url\u001b[0m \u001b[0;34m=\u001b[0m \u001b[0;34m\"https://www.ndbc.noaa.gov/data/realtime2/46025.spec\"\u001b[0m\u001b[0;34m\u001b[0m\u001b[0m\n\u001b[0;32m----> 2\u001b[0;31m \u001b[0mrealtime_df\u001b[0m \u001b[0;34m=\u001b[0m \u001b[0mpd\u001b[0m\u001b[0;34m.\u001b[0m\u001b[0mread_csv\u001b[0m\u001b[0;34m(\u001b[0m\u001b[0mrealtime_url\u001b[0m\u001b[0;34m,\u001b[0m \u001b[0mdelim_whitespace\u001b[0m\u001b[0;34m=\u001b[0m\u001b[0;32mTrue\u001b[0m\u001b[0;34m)\u001b[0m\u001b[0;34m\u001b[0m\u001b[0m\n\u001b[0m",
      "\u001b[0;31mNameError\u001b[0m: name 'pd' is not defined"
     ]
    }
   ],
   "source": [
    "realtime_url = \"https://www.ndbc.noaa.gov/data/realtime2/46025.spec\"\n",
    "realtime_df = pd.read_csv(realtime_url, delim_whitespace=True)"
   ]
  },
  {
   "cell_type": "code",
   "execution_count": 8,
   "metadata": {},
   "outputs": [
    {
     "data": {
      "text/html": [
       "<div>\n",
       "<style scoped>\n",
       "    .dataframe tbody tr th:only-of-type {\n",
       "        vertical-align: middle;\n",
       "    }\n",
       "\n",
       "    .dataframe tbody tr th {\n",
       "        vertical-align: top;\n",
       "    }\n",
       "\n",
       "    .dataframe thead th {\n",
       "        text-align: right;\n",
       "    }\n",
       "</style>\n",
       "<table border=\"1\" class=\"dataframe\">\n",
       "  <thead>\n",
       "    <tr style=\"text-align: right;\">\n",
       "      <th></th>\n",
       "      <th>#YY</th>\n",
       "      <th>MM</th>\n",
       "      <th>DD</th>\n",
       "      <th>hh</th>\n",
       "      <th>mm</th>\n",
       "      <th>WVHT</th>\n",
       "      <th>SwH</th>\n",
       "      <th>SwP</th>\n",
       "      <th>WWH</th>\n",
       "      <th>WWP</th>\n",
       "      <th>SwD</th>\n",
       "      <th>WWD</th>\n",
       "      <th>STEEPNESS</th>\n",
       "      <th>APD</th>\n",
       "      <th>MWD</th>\n",
       "    </tr>\n",
       "  </thead>\n",
       "  <tbody>\n",
       "    <tr>\n",
       "      <th>0</th>\n",
       "      <td>#yr</td>\n",
       "      <td>mo</td>\n",
       "      <td>dy</td>\n",
       "      <td>hr</td>\n",
       "      <td>mn</td>\n",
       "      <td>m</td>\n",
       "      <td>m</td>\n",
       "      <td>sec</td>\n",
       "      <td>m</td>\n",
       "      <td>sec</td>\n",
       "      <td>-</td>\n",
       "      <td>degT</td>\n",
       "      <td>-</td>\n",
       "      <td>sec</td>\n",
       "      <td>degT</td>\n",
       "    </tr>\n",
       "    <tr>\n",
       "      <th>1</th>\n",
       "      <td>2019</td>\n",
       "      <td>06</td>\n",
       "      <td>26</td>\n",
       "      <td>13</td>\n",
       "      <td>40</td>\n",
       "      <td>0.7</td>\n",
       "      <td>0.7</td>\n",
       "      <td>13.8</td>\n",
       "      <td>0.2</td>\n",
       "      <td>2.7</td>\n",
       "      <td>S</td>\n",
       "      <td>NNW</td>\n",
       "      <td>NaN</td>\n",
       "      <td>7.1</td>\n",
       "      <td>179</td>\n",
       "    </tr>\n",
       "    <tr>\n",
       "      <th>2</th>\n",
       "      <td>2019</td>\n",
       "      <td>06</td>\n",
       "      <td>26</td>\n",
       "      <td>12</td>\n",
       "      <td>40</td>\n",
       "      <td>0.7</td>\n",
       "      <td>0.7</td>\n",
       "      <td>14.8</td>\n",
       "      <td>0.2</td>\n",
       "      <td>4.0</td>\n",
       "      <td>SSE</td>\n",
       "      <td>WSW</td>\n",
       "      <td>NaN</td>\n",
       "      <td>7.5</td>\n",
       "      <td>160</td>\n",
       "    </tr>\n",
       "    <tr>\n",
       "      <th>3</th>\n",
       "      <td>2019</td>\n",
       "      <td>06</td>\n",
       "      <td>26</td>\n",
       "      <td>11</td>\n",
       "      <td>40</td>\n",
       "      <td>0.7</td>\n",
       "      <td>0.7</td>\n",
       "      <td>13.8</td>\n",
       "      <td>0.2</td>\n",
       "      <td>2.9</td>\n",
       "      <td>SSW</td>\n",
       "      <td>WSW</td>\n",
       "      <td>NaN</td>\n",
       "      <td>7.7</td>\n",
       "      <td>201</td>\n",
       "    </tr>\n",
       "    <tr>\n",
       "      <th>4</th>\n",
       "      <td>2019</td>\n",
       "      <td>06</td>\n",
       "      <td>26</td>\n",
       "      <td>10</td>\n",
       "      <td>40</td>\n",
       "      <td>0.7</td>\n",
       "      <td>0.7</td>\n",
       "      <td>13.8</td>\n",
       "      <td>0.2</td>\n",
       "      <td>3.8</td>\n",
       "      <td>S</td>\n",
       "      <td>WSW</td>\n",
       "      <td>NaN</td>\n",
       "      <td>8.6</td>\n",
       "      <td>183</td>\n",
       "    </tr>\n",
       "  </tbody>\n",
       "</table>\n",
       "</div>"
      ],
      "text/plain": [
       "    #YY  MM  DD  hh  mm WVHT  SwH   SwP  WWH  WWP  SwD   WWD STEEPNESS  APD  \\\n",
       "0   #yr  mo  dy  hr  mn    m    m   sec    m  sec    -  degT         -  sec   \n",
       "1  2019  06  26  13  40  0.7  0.7  13.8  0.2  2.7    S   NNW       NaN  7.1   \n",
       "2  2019  06  26  12  40  0.7  0.7  14.8  0.2  4.0  SSE   WSW       NaN  7.5   \n",
       "3  2019  06  26  11  40  0.7  0.7  13.8  0.2  2.9  SSW   WSW       NaN  7.7   \n",
       "4  2019  06  26  10  40  0.7  0.7  13.8  0.2  3.8    S   WSW       NaN  8.6   \n",
       "\n",
       "    MWD  \n",
       "0  degT  \n",
       "1   179  \n",
       "2   160  \n",
       "3   201  \n",
       "4   183  "
      ]
     },
     "execution_count": 8,
     "metadata": {},
     "output_type": "execute_result"
    }
   ],
   "source": [
    "realtime_df.head()"
   ]
  },
  {
   "cell_type": "code",
   "execution_count": 9,
   "metadata": {},
   "outputs": [
    {
     "data": {
      "text/plain": [
       "1031"
      ]
     },
     "execution_count": 9,
     "metadata": {},
     "output_type": "execute_result"
    }
   ],
   "source": [
    "len(realtime_df)"
   ]
  },
  {
   "cell_type": "code",
   "execution_count": 10,
   "metadata": {},
   "outputs": [
    {
     "data": {
      "text/plain": [
       "1029"
      ]
     },
     "execution_count": 10,
     "metadata": {},
     "output_type": "execute_result"
    }
   ],
   "source": [
    "len(realtime_df[2:])"
   ]
  },
  {
   "cell_type": "code",
   "execution_count": 11,
   "metadata": {},
   "outputs": [
    {
     "data": {
      "text/html": [
       "<div>\n",
       "<style scoped>\n",
       "    .dataframe tbody tr th:only-of-type {\n",
       "        vertical-align: middle;\n",
       "    }\n",
       "\n",
       "    .dataframe tbody tr th {\n",
       "        vertical-align: top;\n",
       "    }\n",
       "\n",
       "    .dataframe thead th {\n",
       "        text-align: right;\n",
       "    }\n",
       "</style>\n",
       "<table border=\"1\" class=\"dataframe\">\n",
       "  <thead>\n",
       "    <tr style=\"text-align: right;\">\n",
       "      <th></th>\n",
       "      <th>#YY</th>\n",
       "      <th>MM</th>\n",
       "      <th>DD</th>\n",
       "      <th>hh</th>\n",
       "      <th>mm</th>\n",
       "      <th>WVHT</th>\n",
       "      <th>SwH</th>\n",
       "      <th>SwP</th>\n",
       "      <th>WWH</th>\n",
       "      <th>WWP</th>\n",
       "      <th>SwD</th>\n",
       "      <th>WWD</th>\n",
       "      <th>STEEPNESS</th>\n",
       "      <th>APD</th>\n",
       "      <th>MWD</th>\n",
       "    </tr>\n",
       "  </thead>\n",
       "  <tbody>\n",
       "    <tr>\n",
       "      <th>2</th>\n",
       "      <td>2019</td>\n",
       "      <td>06</td>\n",
       "      <td>26</td>\n",
       "      <td>12</td>\n",
       "      <td>40</td>\n",
       "      <td>0.7</td>\n",
       "      <td>0.7</td>\n",
       "      <td>14.8</td>\n",
       "      <td>0.2</td>\n",
       "      <td>4.0</td>\n",
       "      <td>SSE</td>\n",
       "      <td>WSW</td>\n",
       "      <td>NaN</td>\n",
       "      <td>7.5</td>\n",
       "      <td>160</td>\n",
       "    </tr>\n",
       "    <tr>\n",
       "      <th>3</th>\n",
       "      <td>2019</td>\n",
       "      <td>06</td>\n",
       "      <td>26</td>\n",
       "      <td>11</td>\n",
       "      <td>40</td>\n",
       "      <td>0.7</td>\n",
       "      <td>0.7</td>\n",
       "      <td>13.8</td>\n",
       "      <td>0.2</td>\n",
       "      <td>2.9</td>\n",
       "      <td>SSW</td>\n",
       "      <td>WSW</td>\n",
       "      <td>NaN</td>\n",
       "      <td>7.7</td>\n",
       "      <td>201</td>\n",
       "    </tr>\n",
       "    <tr>\n",
       "      <th>4</th>\n",
       "      <td>2019</td>\n",
       "      <td>06</td>\n",
       "      <td>26</td>\n",
       "      <td>10</td>\n",
       "      <td>40</td>\n",
       "      <td>0.7</td>\n",
       "      <td>0.7</td>\n",
       "      <td>13.8</td>\n",
       "      <td>0.2</td>\n",
       "      <td>3.8</td>\n",
       "      <td>S</td>\n",
       "      <td>WSW</td>\n",
       "      <td>NaN</td>\n",
       "      <td>8.6</td>\n",
       "      <td>183</td>\n",
       "    </tr>\n",
       "    <tr>\n",
       "      <th>5</th>\n",
       "      <td>2019</td>\n",
       "      <td>06</td>\n",
       "      <td>26</td>\n",
       "      <td>09</td>\n",
       "      <td>40</td>\n",
       "      <td>0.7</td>\n",
       "      <td>0.7</td>\n",
       "      <td>14.8</td>\n",
       "      <td>0.1</td>\n",
       "      <td>3.8</td>\n",
       "      <td>S</td>\n",
       "      <td>W</td>\n",
       "      <td>NaN</td>\n",
       "      <td>8.6</td>\n",
       "      <td>177</td>\n",
       "    </tr>\n",
       "    <tr>\n",
       "      <th>6</th>\n",
       "      <td>2019</td>\n",
       "      <td>06</td>\n",
       "      <td>26</td>\n",
       "      <td>08</td>\n",
       "      <td>40</td>\n",
       "      <td>0.6</td>\n",
       "      <td>0.6</td>\n",
       "      <td>13.8</td>\n",
       "      <td>0.1</td>\n",
       "      <td>3.8</td>\n",
       "      <td>SE</td>\n",
       "      <td>W</td>\n",
       "      <td>NaN</td>\n",
       "      <td>8.6</td>\n",
       "      <td>142</td>\n",
       "    </tr>\n",
       "  </tbody>\n",
       "</table>\n",
       "</div>"
      ],
      "text/plain": [
       "    #YY  MM  DD  hh  mm WVHT  SwH   SwP  WWH  WWP  SwD  WWD STEEPNESS  APD  \\\n",
       "2  2019  06  26  12  40  0.7  0.7  14.8  0.2  4.0  SSE  WSW       NaN  7.5   \n",
       "3  2019  06  26  11  40  0.7  0.7  13.8  0.2  2.9  SSW  WSW       NaN  7.7   \n",
       "4  2019  06  26  10  40  0.7  0.7  13.8  0.2  3.8    S  WSW       NaN  8.6   \n",
       "5  2019  06  26  09  40  0.7  0.7  14.8  0.1  3.8    S    W       NaN  8.6   \n",
       "6  2019  06  26  08  40  0.6  0.6  13.8  0.1  3.8   SE    W       NaN  8.6   \n",
       "\n",
       "   MWD  \n",
       "2  160  \n",
       "3  201  \n",
       "4  183  \n",
       "5  177  \n",
       "6  142  "
      ]
     },
     "execution_count": 11,
     "metadata": {},
     "output_type": "execute_result"
    }
   ],
   "source": [
    "realtime_df[2:].head()"
   ]
  },
  {
   "cell_type": "code",
   "execution_count": 12,
   "metadata": {},
   "outputs": [
    {
     "name": "stderr",
     "output_type": "stream",
     "text": [
      "/Users/yipstar/anaconda/envs/cv-nd/lib/python3.6/site-packages/flask_sqlalchemy/__init__.py:835: FSADeprecationWarning: SQLALCHEMY_TRACK_MODIFICATIONS adds significant overhead and will be disabled by default in the future.  Set it to True or False to suppress this warning.\n",
      "  'SQLALCHEMY_TRACK_MODIFICATIONS adds significant overhead and '\n",
      "/Users/yipstar/anaconda/envs/cv-nd/lib/python3.6/site-packages/psycopg2/__init__.py:144: UserWarning: The psycopg2 wheel package will be renamed from release 2.8; in order to keep installing from binary please use \"pip install psycopg2-binary\" instead. For details see: <http://initd.org/psycopg/docs/install.html#binary-install-from-pypi>.\n",
      "  \"\"\")\n",
      "2019-06-26 08:17:26,950:INFO:flask_appbuilder.base:Registering class IndexView on menu \n",
      "2019-06-26 08:17:26,956:INFO:flask_appbuilder.base:Registering class UtilView on menu \n",
      "2019-06-26 08:17:26,959:INFO:flask_appbuilder.base:Registering class LocaleView on menu \n",
      "2019-06-26 08:17:26,962:INFO:flask_appbuilder.base:Registering class ResetPasswordView on menu \n",
      "2019-06-26 08:17:26,969:INFO:flask_appbuilder.base:Registering class ResetMyPasswordView on menu \n",
      "2019-06-26 08:17:26,975:INFO:flask_appbuilder.base:Registering class UserInfoEditView on menu \n",
      "2019-06-26 08:17:26,981:INFO:flask_appbuilder.base:Registering class AuthDBView on menu \n",
      "2019-06-26 08:17:26,986:INFO:flask_appbuilder.base:Registering class UserDBModelView on menu List Users\n",
      "2019-06-26 08:17:27,008:INFO:flask_appbuilder.base:Registering class RoleModelView on menu List Roles\n",
      "2019-06-26 08:17:27,027:INFO:flask_appbuilder.base:Registering class UserStatsChartView on menu User's Statistics\n",
      "2019-06-26 08:17:27,039:INFO:flask_appbuilder.base:Registering class PermissionModelView on menu Base Permissions\n",
      "2019-06-26 08:17:27,056:INFO:flask_appbuilder.base:Registering class ViewMenuModelView on menu Views/Menus\n",
      "2019-06-26 08:17:27,073:INFO:flask_appbuilder.base:Registering class PermissionViewModelView on menu Permission on Views/Menus\n"
     ]
    }
   ],
   "source": [
    "from app import app, db"
   ]
  },
  {
   "cell_type": "code",
   "execution_count": 13,
   "metadata": {},
   "outputs": [],
   "source": [
    "from app.models import Buoy"
   ]
  },
  {
   "cell_type": "code",
   "execution_count": 14,
   "metadata": {},
   "outputs": [
    {
     "data": {
      "text/plain": [
       "1424"
      ]
     },
     "execution_count": 14,
     "metadata": {},
     "output_type": "execute_result"
    }
   ],
   "source": [
    "db.session.query(Buoy).count()"
   ]
  },
  {
   "cell_type": "code",
   "execution_count": 15,
   "metadata": {},
   "outputs": [],
   "source": [
    "station_id = \"46025\""
   ]
  },
  {
   "cell_type": "code",
   "execution_count": 16,
   "metadata": {},
   "outputs": [],
   "source": [
    "buoy = db.session.query(Buoy).filter(Buoy.station_id == station_id).first()"
   ]
  },
  {
   "cell_type": "code",
   "execution_count": 17,
   "metadata": {},
   "outputs": [
    {
     "data": {
      "text/plain": [
       "46025 - Santa Monica Basin - 33NM WSW of Santa Monica, CA"
      ]
     },
     "execution_count": 17,
     "metadata": {},
     "output_type": "execute_result"
    }
   ],
   "source": [
    "buoy"
   ]
  },
  {
   "cell_type": "code",
   "execution_count": 18,
   "metadata": {},
   "outputs": [
    {
     "name": "stderr",
     "output_type": "stream",
     "text": [
      "/Users/yipstar/anaconda/envs/cv-nd/lib/python3.6/site-packages/sqlalchemy/ext/declarative/clsregistry.py:128: SAWarning: This declarative base already contains a class with the same class name and module name as app.models.Buoy, and will be replaced in the string-lookup table.\n",
      "  % (item.__module__, item.__name__)\n",
      "/Users/yipstar/anaconda/envs/cv-nd/lib/python3.6/site-packages/sqlalchemy/ext/declarative/clsregistry.py:128: SAWarning: This declarative base already contains a class with the same class name and module name as app.models.BuoyRealtimeWaveDetail, and will be replaced in the string-lookup table.\n",
      "  % (item.__module__, item.__name__)\n",
      "[autoreload of app.models failed: Traceback (most recent call last):\n",
      "  File \"/Users/yipstar/anaconda/envs/cv-nd/lib/python3.6/site-packages/IPython/extensions/autoreload.py\", line 245, in check\n",
      "    superreload(m, reload, self.old_objects)\n",
      "  File \"/Users/yipstar/anaconda/envs/cv-nd/lib/python3.6/site-packages/IPython/extensions/autoreload.py\", line 368, in superreload\n",
      "    module = reload(module)\n",
      "  File \"/Users/yipstar/anaconda/envs/cv-nd/lib/python3.6/imp.py\", line 315, in reload\n",
      "    return importlib.reload(module)\n",
      "  File \"/Users/yipstar/anaconda/envs/cv-nd/lib/python3.6/importlib/__init__.py\", line 166, in reload\n",
      "    _bootstrap._exec(spec, module)\n",
      "  File \"<frozen importlib._bootstrap>\", line 618, in _exec\n",
      "  File \"<frozen importlib._bootstrap_external>\", line 678, in exec_module\n",
      "  File \"<frozen importlib._bootstrap>\", line 219, in _call_with_frames_removed\n",
      "  File \"/Users/yipstar/real_projects/surf_python/huey_admin/app/models.py\", line 44, in <module>\n",
      "    class BuoyRealtimeWaveDetail(Model):\n",
      "  File \"/Users/yipstar/anaconda/envs/cv-nd/lib/python3.6/site-packages/flask_sqlalchemy/model.py\", line 67, in __init__\n",
      "    super(NameMetaMixin, cls).__init__(name, bases, d)\n",
      "  File \"/Users/yipstar/anaconda/envs/cv-nd/lib/python3.6/site-packages/flask_sqlalchemy/model.py\", line 121, in __init__\n",
      "    super(BindMetaMixin, cls).__init__(name, bases, d)\n",
      "sqlalchemy.exc.InvalidRequestError: Table 'buoy_realtime_wave_detail' is already defined for this MetaData instance.  Specify 'extend_existing=True' to redefine options and columns on an existing Table object.\n",
      "]\n"
     ]
    }
   ],
   "source": [
    "from app.models import BuoyRealtimeWaveDetail"
   ]
  },
  {
   "cell_type": "code",
   "execution_count": 43,
   "metadata": {},
   "outputs": [],
   "source": [
    "obs = []"
   ]
  },
  {
   "cell_type": "code",
   "execution_count": 32,
   "metadata": {},
   "outputs": [],
   "source": [
    "import datetime"
   ]
  },
  {
   "cell_type": "code",
   "execution_count": 22,
   "metadata": {},
   "outputs": [
    {
     "data": {
      "text/plain": [
       "datetime.datetime(2019, 6, 26, 15, 35, 24, 690638)"
      ]
     },
     "execution_count": 22,
     "metadata": {},
     "output_type": "execute_result"
    }
   ],
   "source": [
    "datetime.datetime.utcnow()"
   ]
  },
  {
   "cell_type": "code",
   "execution_count": 27,
   "metadata": {},
   "outputs": [
    {
     "data": {
      "text/html": [
       "<div>\n",
       "<style scoped>\n",
       "    .dataframe tbody tr th:only-of-type {\n",
       "        vertical-align: middle;\n",
       "    }\n",
       "\n",
       "    .dataframe tbody tr th {\n",
       "        vertical-align: top;\n",
       "    }\n",
       "\n",
       "    .dataframe thead th {\n",
       "        text-align: right;\n",
       "    }\n",
       "</style>\n",
       "<table border=\"1\" class=\"dataframe\">\n",
       "  <thead>\n",
       "    <tr style=\"text-align: right;\">\n",
       "      <th></th>\n",
       "      <th>#YY</th>\n",
       "      <th>MM</th>\n",
       "      <th>DD</th>\n",
       "      <th>hh</th>\n",
       "      <th>mm</th>\n",
       "      <th>WVHT</th>\n",
       "      <th>SwH</th>\n",
       "      <th>SwP</th>\n",
       "      <th>WWH</th>\n",
       "      <th>WWP</th>\n",
       "      <th>SwD</th>\n",
       "      <th>WWD</th>\n",
       "      <th>STEEPNESS</th>\n",
       "      <th>APD</th>\n",
       "      <th>MWD</th>\n",
       "    </tr>\n",
       "  </thead>\n",
       "  <tbody>\n",
       "    <tr>\n",
       "      <th>2</th>\n",
       "      <td>2019</td>\n",
       "      <td>06</td>\n",
       "      <td>26</td>\n",
       "      <td>12</td>\n",
       "      <td>40</td>\n",
       "      <td>0.7</td>\n",
       "      <td>0.7</td>\n",
       "      <td>14.8</td>\n",
       "      <td>0.2</td>\n",
       "      <td>4.0</td>\n",
       "      <td>SSE</td>\n",
       "      <td>WSW</td>\n",
       "      <td>NaN</td>\n",
       "      <td>7.5</td>\n",
       "      <td>160</td>\n",
       "    </tr>\n",
       "  </tbody>\n",
       "</table>\n",
       "</div>"
      ],
      "text/plain": [
       "    #YY  MM  DD  hh  mm WVHT  SwH   SwP  WWH  WWP  SwD  WWD STEEPNESS  APD  \\\n",
       "2  2019  06  26  12  40  0.7  0.7  14.8  0.2  4.0  SSE  WSW       NaN  7.5   \n",
       "\n",
       "   MWD  \n",
       "2  160  "
      ]
     },
     "execution_count": 27,
     "metadata": {},
     "output_type": "execute_result"
    }
   ],
   "source": [
    "realtime_df[2:3].head()"
   ]
  },
  {
   "cell_type": "code",
   "execution_count": 36,
   "metadata": {},
   "outputs": [
    {
     "data": {
      "text/plain": [
       "datetime.timezone.utc"
      ]
     },
     "execution_count": 36,
     "metadata": {},
     "output_type": "execute_result"
    }
   ],
   "source": [
    "datetime.timezone.utc"
   ]
  },
  {
   "cell_type": "code",
   "execution_count": 44,
   "metadata": {},
   "outputs": [],
   "source": [
    "for (index, row) in realtime_df[2:].iterrows():\n",
    "    #print(row['#YY'])\n",
    "    ob = BuoyRealtimeWaveDetail()\n",
    "    ob.buoy = buoy\n",
    "    ts = datetime.datetime(int(row['#YY']), int(row['MM']), int(row['DD']), int(row['hh']), int(row['mm']), tzinfo=datetime.timezone.utc)\n",
    "    ob.ts = ts\n",
    "    ob.significant_wave_height = float(row['WVHT'])\n",
    "    ob.swell_height = float(row['SwH'])\n",
    "    ob.swell_period = float(row['SwP'])\n",
    "    ob.swell_direction = row['SwD']\n",
    "    ob.wind_wave_height = float(row['WWH'])\n",
    "    ob.wind_wave_period = float(row['WWP'])\n",
    "    ob.steepness = row['STEEPNESS']\n",
    "    ob.dominant_wave_direction = int(row['MWD'])\n",
    "    obs.append(ob)\n",
    "    "
   ]
  },
  {
   "cell_type": "code",
   "execution_count": 45,
   "metadata": {},
   "outputs": [
    {
     "data": {
      "text/plain": [
       "0.7"
      ]
     },
     "execution_count": 45,
     "metadata": {},
     "output_type": "execute_result"
    }
   ],
   "source": [
    "obs[0].significant_wave_height"
   ]
  },
  {
   "cell_type": "code",
   "execution_count": 46,
   "metadata": {},
   "outputs": [
    {
     "data": {
      "text/plain": [
       "1029"
      ]
     },
     "execution_count": 46,
     "metadata": {},
     "output_type": "execute_result"
    }
   ],
   "source": [
    "len(obs)"
   ]
  },
  {
   "cell_type": "code",
   "execution_count": 49,
   "metadata": {},
   "outputs": [],
   "source": [
    "for ob in obs:\n",
    "    db.session.add(ob)\n",
    "    \n",
    "db.session.commit()"
   ]
  },
  {
   "cell_type": "code",
   "execution_count": 50,
   "metadata": {},
   "outputs": [
    {
     "data": {
      "text/plain": [
       "1029"
      ]
     },
     "execution_count": 50,
     "metadata": {},
     "output_type": "execute_result"
    }
   ],
   "source": [
    "db.session.query(BuoyRealtimeWaveDetail).count()"
   ]
  }
 ],
 "metadata": {
  "kernelspec": {
   "display_name": "Python [conda env:cv-nd]",
   "language": "python",
   "name": "conda-env-cv-nd-py"
  },
  "language_info": {
   "codemirror_mode": {
    "name": "ipython",
    "version": 3
   },
   "file_extension": ".py",
   "mimetype": "text/x-python",
   "name": "python",
   "nbconvert_exporter": "python",
   "pygments_lexer": "ipython3",
   "version": "3.6.5"
  }
 },
 "nbformat": 4,
 "nbformat_minor": 2
}
