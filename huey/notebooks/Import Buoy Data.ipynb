{
 "cells": [
  {
   "cell_type": "code",
   "execution_count": 1,
   "metadata": {},
   "outputs": [],
   "source": [
    "%load_ext autoreload\n",
    "%autoreload 2\n",
    "%matplotlib inline"
   ]
  },
  {
   "cell_type": "code",
   "execution_count": 2,
   "metadata": {},
   "outputs": [],
   "source": [
    "import numpy as np\n",
    "import pandas as pd\n",
    "import os\n",
    "import datetime"
   ]
  },
  {
   "cell_type": "code",
   "execution_count": 3,
   "metadata": {},
   "outputs": [],
   "source": [
    "import sys\n",
    "sys.path.append(\"../\")"
   ]
  },
  {
   "cell_type": "code",
   "execution_count": null,
   "metadata": {},
   "outputs": [],
   "source": [
    "realtime_url = \"https://www.ndbc.noaa.gov/data/realtime2/46025.spec\"\n",
    "df = pd.read_csv(realtime_url, delim_whitespace=True)"
   ]
  },
  {
   "cell_type": "code",
   "execution_count": null,
   "metadata": {},
   "outputs": [],
   "source": [
    "df.head()"
   ]
  },
  {
   "cell_type": "code",
   "execution_count": null,
   "metadata": {},
   "outputs": [],
   "source": [
    "df.tail()"
   ]
  },
  {
   "cell_type": "code",
   "execution_count": null,
   "metadata": {},
   "outputs": [],
   "source": [
    "len(df)"
   ]
  },
  {
   "cell_type": "code",
   "execution_count": null,
   "metadata": {},
   "outputs": [],
   "source": [
    "len(df[2:])"
   ]
  },
  {
   "cell_type": "code",
   "execution_count": null,
   "metadata": {},
   "outputs": [],
   "source": [
    "df[df['SwH'] == \"MM\"]"
   ]
  },
  {
   "cell_type": "code",
   "execution_count": null,
   "metadata": {},
   "outputs": [],
   "source": [
    "df = df.replace('MM', np.NaN)"
   ]
  },
  {
   "cell_type": "code",
   "execution_count": null,
   "metadata": {},
   "outputs": [],
   "source": [
    "df[1:]"
   ]
  },
  {
   "cell_type": "code",
   "execution_count": 4,
   "metadata": {},
   "outputs": [
    {
     "name": "stdout",
     "output_type": "stream",
     "text": [
      "[2019-07-26 11:48:46,961] {settings.py:182} INFO - settings.configure_orm(): Using pool settings. pool_size=5, pool_recycle=1800, pid=45706\n"
     ]
    }
   ],
   "source": [
    "from utils import get_db_session"
   ]
  },
  {
   "cell_type": "code",
   "execution_count": 5,
   "metadata": {},
   "outputs": [
    {
     "name": "stdout",
     "output_type": "stream",
     "text": [
      "[2019-07-26 11:49:02,942] {base_hook.py:83} INFO - Using connection to: id: huey_dev. Host: localhost, Port: None, Schema: huey_dev, Login: yipstar, Password: None, extra: {}\n"
     ]
    }
   ],
   "source": [
    "db_session = get_db_session()"
   ]
  },
  {
   "cell_type": "code",
   "execution_count": 6,
   "metadata": {},
   "outputs": [],
   "source": [
    "from models import Buoy, BuoyRealtimeWaveDetail"
   ]
  },
  {
   "cell_type": "code",
   "execution_count": 7,
   "metadata": {},
   "outputs": [
    {
     "data": {
      "text/plain": [
       "46025 - Santa Monica Basin - 33NM WSW of Santa Monica, CA"
      ]
     },
     "execution_count": 7,
     "metadata": {},
     "output_type": "execute_result"
    }
   ],
   "source": [
    "station_id = \"46025\"\n",
    "buoy = db_session.query(Buoy).filter(Buoy.station_id == station_id).first();\n",
    "buoy"
   ]
  },
  {
   "cell_type": "code",
   "execution_count": 8,
   "metadata": {},
   "outputs": [],
   "source": [
    "from importer import *"
   ]
  },
  {
   "cell_type": "code",
   "execution_count": null,
   "metadata": {},
   "outputs": [],
   "source": [
    "db.session.query(BuoyRealtimeWaveDetail).filter(BuoyRealtimeWaveDetail.buoy_id == buoy.id ).count()"
   ]
  },
  {
   "cell_type": "code",
   "execution_count": null,
   "metadata": {},
   "outputs": [],
   "source": [
    "db.session.rollback()"
   ]
  },
  {
   "cell_type": "code",
   "execution_count": null,
   "metadata": {},
   "outputs": [],
   "source": [
    "latest_ob = db.session.query(BuoyRealtimeWaveDetail).filter(BuoyRealtimeWaveDetail.buoy_id == buoy.id ).order_by(BuoyRealtimeWaveDetail.ts.desc()).first()"
   ]
  },
  {
   "cell_type": "code",
   "execution_count": null,
   "metadata": {},
   "outputs": [],
   "source": [
    "latest_ob.ts"
   ]
  },
  {
   "cell_type": "code",
   "execution_count": null,
   "metadata": {},
   "outputs": [],
   "source": [
    "db.session.commit()"
   ]
  },
  {
   "cell_type": "code",
   "execution_count": 10,
   "metadata": {},
   "outputs": [
    {
     "name": "stdout",
     "output_type": "stream",
     "text": [
      "inserting observation for date: 2019-07-26 17:40:00+00:00\n",
      "inserting observation for date: 2019-07-26 16:40:00+00:00\n",
      "inserting observation for date: 2019-07-26 15:40:00+00:00\n",
      "inserting observation for date: 2019-07-26 14:40:00+00:00\n",
      "inserting observation for date: 2019-07-26 13:40:00+00:00\n",
      "inserting observation for date: 2019-07-26 12:40:00+00:00\n",
      "inserting observation for date: 2019-07-26 11:40:00+00:00\n",
      "inserting observation for date: 2019-07-26 10:40:00+00:00\n",
      "inserting observation for date: 2019-07-26 09:40:00+00:00\n",
      "inserting observation for date: 2019-07-26 08:40:00+00:00\n",
      "inserting observation for date: 2019-07-26 07:40:00+00:00\n",
      "inserting observation for date: 2019-07-26 06:40:00+00:00\n",
      "inserting observation for date: 2019-07-26 05:40:00+00:00\n",
      "inserting observation for date: 2019-07-26 04:40:00+00:00\n",
      "inserting observation for date: 2019-07-26 03:40:00+00:00\n",
      "inserting observation for date: 2019-07-26 02:40:00+00:00\n",
      "inserting observation for date: 2019-07-26 01:40:00+00:00\n",
      "inserting observation for date: 2019-07-26 00:40:00+00:00\n",
      "inserting observation for date: 2019-07-25 23:40:00+00:00\n",
      "inserting observation for date: 2019-07-25 22:40:00+00:00\n",
      "inserting observation for date: 2019-07-25 21:40:00+00:00\n",
      "inserting observation for date: 2019-07-25 20:40:00+00:00\n",
      "inserting observation for date: 2019-07-25 19:40:00+00:00\n",
      "inserting observation for date: 2019-07-25 18:40:00+00:00\n",
      "inserting observation for date: 2019-07-25 17:40:00+00:00\n",
      "inserting observation for date: 2019-07-25 16:40:00+00:00\n",
      "inserting observation for date: 2019-07-25 15:40:00+00:00\n",
      "inserting observation for date: 2019-07-25 14:40:00+00:00\n",
      "inserting observation for date: 2019-07-25 13:40:00+00:00\n",
      "inserting observation for date: 2019-07-25 12:40:00+00:00\n",
      "inserting observation for date: 2019-07-25 11:40:00+00:00\n",
      "inserting observation for date: 2019-07-25 10:40:00+00:00\n",
      "inserting observation for date: 2019-07-25 09:40:00+00:00\n",
      "inserting observation for date: 2019-07-25 08:40:00+00:00\n",
      "inserting observation for date: 2019-07-25 07:40:00+00:00\n",
      "inserting observation for date: 2019-07-25 06:40:00+00:00\n",
      "inserting observation for date: 2019-07-25 05:40:00+00:00\n",
      "observation for date: 2019-07-25 04:40:00+00:00 already present, skipping.\n",
      "import complete\n"
     ]
    }
   ],
   "source": [
    "import_buoy_realtime_wave_detail(db_session)"
   ]
  },
  {
   "cell_type": "code",
   "execution_count": null,
   "metadata": {},
   "outputs": [],
   "source": [
    "db.session.rollback()"
   ]
  },
  {
   "cell_type": "code",
   "execution_count": null,
   "metadata": {},
   "outputs": [],
   "source": [
    "station_id = \"46025\"\n",
    "buoy = db.session.query(Buoy).filter(Buoy.station_id == station_id).first()\n",
    "\n",
    "realtime_url = f\"https://www.ndbc.noaa.gov/data/realtime2/{station_id}.spec\"\n",
    "df = pd.read_csv(realtime_url, delim_whitespace=True)\n",
    "df = df.replace('MM', np.NaN)\n",
    "\n",
    "latest_ob = db.session.query(BuoyRealtimeWaveDetail).filter(BuoyRealtimeWaveDetail.buoy_id == buoy.id ).first()\n",
    "\n",
    "obs = []"
   ]
  },
  {
   "cell_type": "code",
   "execution_count": null,
   "metadata": {},
   "outputs": [],
   "source": [
    "latest_ob = db.session.query(BuoyRealtimeWaveDetail).filter(BuoyRealtimeWaveDetail.buoy_id == buoy.id ).first()"
   ]
  },
  {
   "cell_type": "code",
   "execution_count": null,
   "metadata": {},
   "outputs": [],
   "source": [
    "latest_ob"
   ]
  },
  {
   "cell_type": "code",
   "execution_count": null,
   "metadata": {},
   "outputs": [],
   "source": [
    "url = \"https://www.ndbc.noaa.gov/data/realtime2/46025.data_spec\"\n",
    "df = pd.read_csv(url, delim_whitespace=True)"
   ]
  },
  {
   "cell_type": "code",
   "execution_count": null,
   "metadata": {},
   "outputs": [],
   "source": [
    "df.iloc[0]['#YY']"
   ]
  },
  {
   "cell_type": "code",
   "execution_count": null,
   "metadata": {},
   "outputs": [],
   "source": [
    "df.columns"
   ]
  },
  {
   "cell_type": "code",
   "execution_count": null,
   "metadata": {},
   "outputs": [],
   "source": [
    "BaseException"
   ]
  },
  {
   "cell_type": "code",
   "execution_count": null,
   "metadata": {},
   "outputs": [],
   "source": [
    "from airflow.hooks.postgres_hook import PostgresHook"
   ]
  },
  {
   "cell_type": "code",
   "execution_count": null,
   "metadata": {},
   "outputs": [],
   "source": [
    "from airflow.hooks import DbApiHook"
   ]
  },
  {
   "cell_type": "code",
   "execution_count": null,
   "metadata": {},
   "outputs": [],
   "source": [
    "db = DbApiHook(conn_name_attr='conn_id')"
   ]
  },
  {
   "cell_type": "code",
   "execution_count": null,
   "metadata": {},
   "outputs": [],
   "source": [
    "db_connection = PostgresHook(postgres_conn_id='huey_dev')"
   ]
  },
  {
   "cell_type": "code",
   "execution_count": null,
   "metadata": {},
   "outputs": [],
   "source": [
    "type(db_connection)"
   ]
  },
  {
   "cell_type": "code",
   "execution_count": null,
   "metadata": {},
   "outputs": [],
   "source": [
    "engine = db_connection.get_sqlalchemy_engine()"
   ]
  },
  {
   "cell_type": "code",
   "execution_count": null,
   "metadata": {},
   "outputs": [],
   "source": [
    "Session.configure(bind=engine)"
   ]
  },
  {
   "cell_type": "code",
   "execution_count": null,
   "metadata": {},
   "outputs": [],
   "source": [
    "session = Session()"
   ]
  },
  {
   "cell_type": "code",
   "execution_count": null,
   "metadata": {},
   "outputs": [],
   "source": [
    "type(session)"
   ]
  },
  {
   "cell_type": "code",
   "execution_count": null,
   "metadata": {},
   "outputs": [],
   "source": [
    "from sqlalchemy.orm.session import sessionmaker"
   ]
  },
  {
   "cell_type": "code",
   "execution_count": null,
   "metadata": {},
   "outputs": [],
   "source": [
    "Session = sessionmaker()"
   ]
  },
  {
   "cell_type": "markdown",
   "metadata": {},
   "source": [
    "session = Session(bind=db_connection)"
   ]
  },
  {
   "cell_type": "code",
   "execution_count": null,
   "metadata": {},
   "outputs": [],
   "source": [
    "session"
   ]
  },
  {
   "cell_type": "code",
   "execution_count": null,
   "metadata": {},
   "outputs": [],
   "source": [
    "db_connection.get_dsn_parameters()"
   ]
  },
  {
   "cell_type": "code",
   "execution_count": null,
   "metadata": {},
   "outputs": [],
   "source": [
    "db_connection.get_native_connection()"
   ]
  }
 ],
 "metadata": {
  "kernelspec": {
   "display_name": "Python [conda env:cv-nd]",
   "language": "python",
   "name": "conda-env-cv-nd-py"
  },
  "language_info": {
   "codemirror_mode": {
    "name": "ipython",
    "version": 3
   },
   "file_extension": ".py",
   "mimetype": "text/x-python",
   "name": "python",
   "nbconvert_exporter": "python",
   "pygments_lexer": "ipython3",
   "version": "3.6.5"
  }
 },
 "nbformat": 4,
 "nbformat_minor": 2
}
