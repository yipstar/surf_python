{
 "cells": [
  {
   "cell_type": "code",
   "execution_count": null,
   "metadata": {},
   "outputs": [],
   "source": [
    "# default_exp core"
   ]
  },
  {
   "cell_type": "code",
   "execution_count": null,
   "metadata": {},
   "outputs": [],
   "source": [
    "%load_ext autoreload\n",
    "%autoreload 2\n",
    "%matplotlib inline"
   ]
  },
  {
   "cell_type": "markdown",
   "metadata": {},
   "source": [
    "# huey\n",
    "\n",
    "> surf forecasting."
   ]
  },
  {
   "cell_type": "code",
   "execution_count": null,
   "metadata": {},
   "outputs": [],
   "source": [
    "#hide\n",
    "from nbdev.showdoc import *"
   ]
  },
  {
   "cell_type": "markdown",
   "metadata": {},
   "source": [
    "# Importing data"
   ]
  },
  {
   "cell_type": "code",
   "execution_count": null,
   "metadata": {},
   "outputs": [],
   "source": [
    "from huey.imports import *"
   ]
  },
  {
   "cell_type": "code",
   "execution_count": null,
   "metadata": {},
   "outputs": [],
   "source": [
    "realtime_url = \"https://www.ndbc.noaa.gov/data/realtime2/46025.spec\"\n",
    "df = pd.read_csv(realtime_url, delim_whitespace=True)"
   ]
  },
  {
   "cell_type": "code",
   "execution_count": null,
   "metadata": {},
   "outputs": [
    {
     "data": {
      "text/html": [
       "<div>\n",
       "<style scoped>\n",
       "    .dataframe tbody tr th:only-of-type {\n",
       "        vertical-align: middle;\n",
       "    }\n",
       "\n",
       "    .dataframe tbody tr th {\n",
       "        vertical-align: top;\n",
       "    }\n",
       "\n",
       "    .dataframe thead th {\n",
       "        text-align: right;\n",
       "    }\n",
       "</style>\n",
       "<table border=\"1\" class=\"dataframe\">\n",
       "  <thead>\n",
       "    <tr style=\"text-align: right;\">\n",
       "      <th></th>\n",
       "      <th>#YY</th>\n",
       "      <th>MM</th>\n",
       "      <th>DD</th>\n",
       "      <th>hh</th>\n",
       "      <th>mm</th>\n",
       "      <th>WVHT</th>\n",
       "      <th>SwH</th>\n",
       "      <th>SwP</th>\n",
       "      <th>WWH</th>\n",
       "      <th>WWP</th>\n",
       "      <th>SwD</th>\n",
       "      <th>WWD</th>\n",
       "      <th>STEEPNESS</th>\n",
       "      <th>APD</th>\n",
       "      <th>MWD</th>\n",
       "    </tr>\n",
       "  </thead>\n",
       "  <tbody>\n",
       "    <tr>\n",
       "      <th>0</th>\n",
       "      <td>#yr</td>\n",
       "      <td>mo</td>\n",
       "      <td>dy</td>\n",
       "      <td>hr</td>\n",
       "      <td>mn</td>\n",
       "      <td>m</td>\n",
       "      <td>m</td>\n",
       "      <td>sec</td>\n",
       "      <td>m</td>\n",
       "      <td>sec</td>\n",
       "      <td>-</td>\n",
       "      <td>degT</td>\n",
       "      <td>-</td>\n",
       "      <td>sec</td>\n",
       "      <td>degT</td>\n",
       "    </tr>\n",
       "    <tr>\n",
       "      <th>1</th>\n",
       "      <td>2020</td>\n",
       "      <td>01</td>\n",
       "      <td>20</td>\n",
       "      <td>00</td>\n",
       "      <td>40</td>\n",
       "      <td>0.7</td>\n",
       "      <td>0.6</td>\n",
       "      <td>16.0</td>\n",
       "      <td>0.2</td>\n",
       "      <td>3.8</td>\n",
       "      <td>W</td>\n",
       "      <td>W</td>\n",
       "      <td>NaN</td>\n",
       "      <td>7.2</td>\n",
       "      <td>281</td>\n",
       "    </tr>\n",
       "    <tr>\n",
       "      <th>2</th>\n",
       "      <td>2020</td>\n",
       "      <td>01</td>\n",
       "      <td>19</td>\n",
       "      <td>23</td>\n",
       "      <td>40</td>\n",
       "      <td>0.6</td>\n",
       "      <td>0.6</td>\n",
       "      <td>16.0</td>\n",
       "      <td>0.2</td>\n",
       "      <td>3.7</td>\n",
       "      <td>SW</td>\n",
       "      <td>W</td>\n",
       "      <td>NaN</td>\n",
       "      <td>6.5</td>\n",
       "      <td>235</td>\n",
       "    </tr>\n",
       "    <tr>\n",
       "      <th>3</th>\n",
       "      <td>2020</td>\n",
       "      <td>01</td>\n",
       "      <td>19</td>\n",
       "      <td>22</td>\n",
       "      <td>40</td>\n",
       "      <td>0.6</td>\n",
       "      <td>0.6</td>\n",
       "      <td>16.0</td>\n",
       "      <td>0.2</td>\n",
       "      <td>3.8</td>\n",
       "      <td>NNW</td>\n",
       "      <td>W</td>\n",
       "      <td>NaN</td>\n",
       "      <td>6.6</td>\n",
       "      <td>333</td>\n",
       "    </tr>\n",
       "    <tr>\n",
       "      <th>4</th>\n",
       "      <td>2020</td>\n",
       "      <td>01</td>\n",
       "      <td>19</td>\n",
       "      <td>21</td>\n",
       "      <td>40</td>\n",
       "      <td>0.6</td>\n",
       "      <td>0.6</td>\n",
       "      <td>16.0</td>\n",
       "      <td>0.2</td>\n",
       "      <td>2.9</td>\n",
       "      <td>SW</td>\n",
       "      <td>E</td>\n",
       "      <td>NaN</td>\n",
       "      <td>6.5</td>\n",
       "      <td>221</td>\n",
       "    </tr>\n",
       "  </tbody>\n",
       "</table>\n",
       "</div>"
      ],
      "text/plain": [
       "    #YY  MM  DD  hh  mm WVHT  SwH   SwP  WWH  WWP  SwD   WWD STEEPNESS  APD  \\\n",
       "0   #yr  mo  dy  hr  mn    m    m   sec    m  sec    -  degT         -  sec   \n",
       "1  2020  01  20  00  40  0.7  0.6  16.0  0.2  3.8    W     W       NaN  7.2   \n",
       "2  2020  01  19  23  40  0.6  0.6  16.0  0.2  3.7   SW     W       NaN  6.5   \n",
       "3  2020  01  19  22  40  0.6  0.6  16.0  0.2  3.8  NNW     W       NaN  6.6   \n",
       "4  2020  01  19  21  40  0.6  0.6  16.0  0.2  2.9   SW     E       NaN  6.5   \n",
       "\n",
       "    MWD  \n",
       "0  degT  \n",
       "1   281  \n",
       "2   235  \n",
       "3   333  \n",
       "4   221  "
      ]
     },
     "execution_count": null,
     "metadata": {},
     "output_type": "execute_result"
    }
   ],
   "source": [
    "df.head()"
   ]
  },
  {
   "cell_type": "markdown",
   "metadata": {},
   "source": [
    "# Export"
   ]
  },
  {
   "cell_type": "code",
   "execution_count": null,
   "metadata": {},
   "outputs": [
    {
     "name": "stdout",
     "output_type": "stream",
     "text": [
      "Converted 00_core.ipynb.\n"
     ]
    }
   ],
   "source": [
    "#hide\n",
    "from nbdev.export import notebook2script\n",
    "notebook2script()"
   ]
  }
 ],
 "metadata": {
  "kernelspec": {
   "display_name": "Python [default]",
   "language": "python",
   "name": "python3"
  },
  "language_info": {
   "codemirror_mode": {
    "name": "ipython",
    "version": 3
   },
   "file_extension": ".py",
   "mimetype": "text/x-python",
   "name": "python",
   "nbconvert_exporter": "python",
   "pygments_lexer": "ipython3",
   "version": "3.6.5"
  }
 },
 "nbformat": 4,
 "nbformat_minor": 2
}
