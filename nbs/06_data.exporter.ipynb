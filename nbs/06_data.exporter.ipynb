{
 "cells": [
  {
   "cell_type": "code",
   "execution_count": null,
   "metadata": {},
   "outputs": [],
   "source": [
    "#default_exp data.exporter"
   ]
  },
  {
   "cell_type": "code",
   "execution_count": null,
   "metadata": {},
   "outputs": [],
   "source": [
    "%reload_ext autoreload\n",
    "%autoreload 2\n",
    "%matplotlib inline"
   ]
  },
  {
   "cell_type": "markdown",
   "metadata": {},
   "source": [
    "# Export Buoys"
   ]
  },
  {
   "cell_type": "code",
   "execution_count": null,
   "metadata": {},
   "outputs": [
    {
     "name": "stdout",
     "output_type": "stream",
     "text": [
      "[2020-06-24 19:04:37,992] {settings.py:254} INFO - settings.configure_orm(): Using pool settings. pool_size=5, max_overflow=10, pool_recycle=1800, pid=17759\n"
     ]
    }
   ],
   "source": [
    "#export\n",
    "from huey.imports import *"
   ]
  },
  {
   "cell_type": "code",
   "execution_count": null,
   "metadata": {},
   "outputs": [
    {
     "name": "stdout",
     "output_type": "stream",
     "text": [
      "[2020-06-24 19:04:53,912] {base_hook.py:84} INFO - Using connection to: id: huey_dev. Host: localhost, Port: None, Schema: huey_dev, Login: postgres, Password: XXXXXXXX, extra: None\n"
     ]
    }
   ],
   "source": [
    "from huey.data.sql import get_db_engine\n",
    "db_engine = get_db_engine()"
   ]
  },
  {
   "cell_type": "code",
   "execution_count": null,
   "metadata": {},
   "outputs": [],
   "source": [
    "df = pd.read_sql(\"select * from buoy\", db_engine)"
   ]
  },
  {
   "cell_type": "code",
   "execution_count": null,
   "metadata": {},
   "outputs": [
    {
     "data": {
      "text/html": [
       "<div>\n",
       "<style scoped>\n",
       "    .dataframe tbody tr th:only-of-type {\n",
       "        vertical-align: middle;\n",
       "    }\n",
       "\n",
       "    .dataframe tbody tr th {\n",
       "        vertical-align: top;\n",
       "    }\n",
       "\n",
       "    .dataframe thead th {\n",
       "        text-align: right;\n",
       "    }\n",
       "</style>\n",
       "<table border=\"1\" class=\"dataframe\">\n",
       "  <thead>\n",
       "    <tr style=\"text-align: right;\">\n",
       "      <th></th>\n",
       "      <th>id</th>\n",
       "      <th>station_id</th>\n",
       "      <th>name</th>\n",
       "      <th>owner</th>\n",
       "      <th>pgm</th>\n",
       "      <th>station_type</th>\n",
       "      <th>lat</th>\n",
       "      <th>lng</th>\n",
       "      <th>point</th>\n",
       "      <th>elevation</th>\n",
       "      <th>hull</th>\n",
       "      <th>anemom_height</th>\n",
       "      <th>created_at</th>\n",
       "      <th>updated_at</th>\n",
       "    </tr>\n",
       "  </thead>\n",
       "  <tbody>\n",
       "    <tr>\n",
       "      <th>0</th>\n",
       "      <td>1</td>\n",
       "      <td>0Y2W3</td>\n",
       "      <td>Sturgeon Bay CG Station, WI</td>\n",
       "      <td>U.S.C.G. Marine Reporting Stations</td>\n",
       "      <td>IOOS Partners</td>\n",
       "      <td>fixed</td>\n",
       "      <td>44.794</td>\n",
       "      <td>-87.313</td>\n",
       "      <td>0101000020E61000001283C0CAA165464079E9263108D4...</td>\n",
       "      <td>None</td>\n",
       "      <td></td>\n",
       "      <td>10.0</td>\n",
       "      <td>None</td>\n",
       "      <td>None</td>\n",
       "    </tr>\n",
       "    <tr>\n",
       "      <th>1</th>\n",
       "      <td>2</td>\n",
       "      <td>15319</td>\n",
       "      <td>Sanha - WANE 25947</td>\n",
       "      <td>Chevron</td>\n",
       "      <td>Oil and Gas Industry</td>\n",
       "      <td>oilrig</td>\n",
       "      <td>-5.583</td>\n",
       "      <td>11.833</td>\n",
       "      <td>0101000020E6100000A245B6F3FD5416C0D122DBF97EAA...</td>\n",
       "      <td>None</td>\n",
       "      <td></td>\n",
       "      <td>NaN</td>\n",
       "      <td>None</td>\n",
       "      <td>None</td>\n",
       "    </tr>\n",
       "    <tr>\n",
       "      <th>2</th>\n",
       "      <td>3</td>\n",
       "      <td>18CI3</td>\n",
       "      <td>Michigan City CG Station, IN</td>\n",
       "      <td>U.S.C.G. Marine Reporting Stations</td>\n",
       "      <td>IOOS Partners</td>\n",
       "      <td>fixed</td>\n",
       "      <td>41.730</td>\n",
       "      <td>-86.910</td>\n",
       "      <td>0101000020E61000003D0AD7A370DD44400AD7A3703DBA...</td>\n",
       "      <td>None</td>\n",
       "      <td></td>\n",
       "      <td>24.0</td>\n",
       "      <td>None</td>\n",
       "      <td>None</td>\n",
       "    </tr>\n",
       "    <tr>\n",
       "      <th>3</th>\n",
       "      <td>4</td>\n",
       "      <td>20CM4</td>\n",
       "      <td>St. Joseph CG Station, MI</td>\n",
       "      <td>U.S.C.G. Marine Reporting Stations</td>\n",
       "      <td>IOOS Partners</td>\n",
       "      <td>fixed</td>\n",
       "      <td>42.090</td>\n",
       "      <td>-86.490</td>\n",
       "      <td>0101000020E6100000EC51B81E850B45408FC2F5285C9F...</td>\n",
       "      <td>None</td>\n",
       "      <td></td>\n",
       "      <td>24.0</td>\n",
       "      <td>None</td>\n",
       "      <td>None</td>\n",
       "    </tr>\n",
       "    <tr>\n",
       "      <th>4</th>\n",
       "      <td>5</td>\n",
       "      <td>21346</td>\n",
       "      <td>21346  380km East of Iwate, Japan</td>\n",
       "      <td>Japanese Meteorological Agency</td>\n",
       "      <td>Tsunami</td>\n",
       "      <td>dart</td>\n",
       "      <td>40.303</td>\n",
       "      <td>146.192</td>\n",
       "      <td>0101000020E6100000105839B4C8264440A01A2FDD2446...</td>\n",
       "      <td>None</td>\n",
       "      <td></td>\n",
       "      <td>NaN</td>\n",
       "      <td>None</td>\n",
       "      <td>None</td>\n",
       "    </tr>\n",
       "  </tbody>\n",
       "</table>\n",
       "</div>"
      ],
      "text/plain": [
       "   id station_id                               name  \\\n",
       "0   1      0Y2W3        Sturgeon Bay CG Station, WI   \n",
       "1   2      15319                 Sanha - WANE 25947   \n",
       "2   3      18CI3       Michigan City CG Station, IN   \n",
       "3   4      20CM4          St. Joseph CG Station, MI   \n",
       "4   5      21346  21346  380km East of Iwate, Japan   \n",
       "\n",
       "                                owner                   pgm station_type  \\\n",
       "0  U.S.C.G. Marine Reporting Stations         IOOS Partners        fixed   \n",
       "1                             Chevron  Oil and Gas Industry       oilrig   \n",
       "2  U.S.C.G. Marine Reporting Stations         IOOS Partners        fixed   \n",
       "3  U.S.C.G. Marine Reporting Stations         IOOS Partners        fixed   \n",
       "4      Japanese Meteorological Agency               Tsunami         dart   \n",
       "\n",
       "      lat      lng                                              point  \\\n",
       "0  44.794  -87.313  0101000020E61000001283C0CAA165464079E9263108D4...   \n",
       "1  -5.583   11.833  0101000020E6100000A245B6F3FD5416C0D122DBF97EAA...   \n",
       "2  41.730  -86.910  0101000020E61000003D0AD7A370DD44400AD7A3703DBA...   \n",
       "3  42.090  -86.490  0101000020E6100000EC51B81E850B45408FC2F5285C9F...   \n",
       "4  40.303  146.192  0101000020E6100000105839B4C8264440A01A2FDD2446...   \n",
       "\n",
       "  elevation hull  anemom_height created_at updated_at  \n",
       "0      None                10.0       None       None  \n",
       "1      None                 NaN       None       None  \n",
       "2      None                24.0       None       None  \n",
       "3      None                24.0       None       None  \n",
       "4      None                 NaN       None       None  "
      ]
     },
     "execution_count": null,
     "metadata": {},
     "output_type": "execute_result"
    }
   ],
   "source": [
    "df.head()"
   ]
  },
  {
   "cell_type": "code",
   "execution_count": null,
   "metadata": {},
   "outputs": [
    {
     "data": {
      "text/html": [
       "<div>\n",
       "<style scoped>\n",
       "    .dataframe tbody tr th:only-of-type {\n",
       "        vertical-align: middle;\n",
       "    }\n",
       "\n",
       "    .dataframe tbody tr th {\n",
       "        vertical-align: top;\n",
       "    }\n",
       "\n",
       "    .dataframe thead th {\n",
       "        text-align: right;\n",
       "    }\n",
       "</style>\n",
       "<table border=\"1\" class=\"dataframe\">\n",
       "  <thead>\n",
       "    <tr style=\"text-align: right;\">\n",
       "      <th></th>\n",
       "      <th>id</th>\n",
       "      <th>station_id</th>\n",
       "      <th>name</th>\n",
       "      <th>owner</th>\n",
       "      <th>pgm</th>\n",
       "      <th>station_type</th>\n",
       "      <th>lat</th>\n",
       "      <th>lng</th>\n",
       "      <th>point</th>\n",
       "      <th>elevation</th>\n",
       "      <th>hull</th>\n",
       "      <th>anemom_height</th>\n",
       "      <th>created_at</th>\n",
       "      <th>updated_at</th>\n",
       "    </tr>\n",
       "  </thead>\n",
       "  <tbody>\n",
       "    <tr>\n",
       "      <th>1419</th>\n",
       "      <td>1420</td>\n",
       "      <td>YGNN6</td>\n",
       "      <td>Niagara Coast Guard Station, NY</td>\n",
       "      <td>NWS Eastern Region</td>\n",
       "      <td>IOOS Partners</td>\n",
       "      <td>fixed</td>\n",
       "      <td>43.261</td>\n",
       "      <td>-79.064</td>\n",
       "      <td>0101000020E6100000C520B07268A145406ABC749318C4...</td>\n",
       "      <td>None</td>\n",
       "      <td></td>\n",
       "      <td>10.0</td>\n",
       "      <td>None</td>\n",
       "      <td>None</td>\n",
       "    </tr>\n",
       "    <tr>\n",
       "      <th>1420</th>\n",
       "      <td>1421</td>\n",
       "      <td>YKRV2</td>\n",
       "      <td>8637611 - York River East Rear Range Light, VA</td>\n",
       "      <td>NOS</td>\n",
       "      <td>NOS/CO-OPS</td>\n",
       "      <td>fixed</td>\n",
       "      <td>37.250</td>\n",
       "      <td>-76.333</td>\n",
       "      <td>0101000020E61000000000000000A042405A643BDF4F15...</td>\n",
       "      <td>None</td>\n",
       "      <td></td>\n",
       "      <td>6.0</td>\n",
       "      <td>None</td>\n",
       "      <td>None</td>\n",
       "    </tr>\n",
       "    <tr>\n",
       "      <th>1421</th>\n",
       "      <td>1422</td>\n",
       "      <td>YKTV2</td>\n",
       "      <td>8637689 - Yorktown USCG Training Center, VA</td>\n",
       "      <td>NOS</td>\n",
       "      <td>NOS/CO-OPS</td>\n",
       "      <td>fixed</td>\n",
       "      <td>37.227</td>\n",
       "      <td>-76.478</td>\n",
       "      <td>0101000020E6100000931804560E9D42403BDF4F8D971E...</td>\n",
       "      <td>None</td>\n",
       "      <td></td>\n",
       "      <td>9.6</td>\n",
       "      <td>None</td>\n",
       "      <td>None</td>\n",
       "    </tr>\n",
       "    <tr>\n",
       "      <th>1422</th>\n",
       "      <td>1423</td>\n",
       "      <td>YRSV2</td>\n",
       "      <td>Taskinas Creek, Chesapeake Bay Reserve, VA</td>\n",
       "      <td>National Estuarine Research Reserve System</td>\n",
       "      <td>NERRS</td>\n",
       "      <td>fixed</td>\n",
       "      <td>37.414</td>\n",
       "      <td>-76.713</td>\n",
       "      <td>0101000020E6100000A245B6F3FDB442401283C0CAA12D...</td>\n",
       "      <td>None</td>\n",
       "      <td></td>\n",
       "      <td>3.5</td>\n",
       "      <td>None</td>\n",
       "      <td>None</td>\n",
       "    </tr>\n",
       "    <tr>\n",
       "      <th>1423</th>\n",
       "      <td>1424</td>\n",
       "      <td>ZBQN7</td>\n",
       "      <td>Zeke's Basin, North Carolina</td>\n",
       "      <td>National Estuarine Research Reserve System</td>\n",
       "      <td>NERRS</td>\n",
       "      <td>fixed</td>\n",
       "      <td>33.955</td>\n",
       "      <td>-77.935</td>\n",
       "      <td>0101000020E61000000AD7A3703DFA4040A4703D0AD77B...</td>\n",
       "      <td>None</td>\n",
       "      <td></td>\n",
       "      <td>NaN</td>\n",
       "      <td>None</td>\n",
       "      <td>None</td>\n",
       "    </tr>\n",
       "  </tbody>\n",
       "</table>\n",
       "</div>"
      ],
      "text/plain": [
       "        id station_id                                            name  \\\n",
       "1419  1420      YGNN6                 Niagara Coast Guard Station, NY   \n",
       "1420  1421      YKRV2  8637611 - York River East Rear Range Light, VA   \n",
       "1421  1422      YKTV2     8637689 - Yorktown USCG Training Center, VA   \n",
       "1422  1423      YRSV2      Taskinas Creek, Chesapeake Bay Reserve, VA   \n",
       "1423  1424      ZBQN7                    Zeke's Basin, North Carolina   \n",
       "\n",
       "                                           owner            pgm station_type  \\\n",
       "1419                          NWS Eastern Region  IOOS Partners        fixed   \n",
       "1420                                         NOS     NOS/CO-OPS        fixed   \n",
       "1421                                         NOS     NOS/CO-OPS        fixed   \n",
       "1422  National Estuarine Research Reserve System          NERRS        fixed   \n",
       "1423  National Estuarine Research Reserve System          NERRS        fixed   \n",
       "\n",
       "         lat     lng                                              point  \\\n",
       "1419  43.261 -79.064  0101000020E6100000C520B07268A145406ABC749318C4...   \n",
       "1420  37.250 -76.333  0101000020E61000000000000000A042405A643BDF4F15...   \n",
       "1421  37.227 -76.478  0101000020E6100000931804560E9D42403BDF4F8D971E...   \n",
       "1422  37.414 -76.713  0101000020E6100000A245B6F3FDB442401283C0CAA12D...   \n",
       "1423  33.955 -77.935  0101000020E61000000AD7A3703DFA4040A4703D0AD77B...   \n",
       "\n",
       "     elevation hull  anemom_height created_at updated_at  \n",
       "1419      None                10.0       None       None  \n",
       "1420      None                 6.0       None       None  \n",
       "1421      None                 9.6       None       None  \n",
       "1422      None                 3.5       None       None  \n",
       "1423      None                 NaN       None       None  "
      ]
     },
     "execution_count": null,
     "metadata": {},
     "output_type": "execute_result"
    }
   ],
   "source": [
    "df.tail()"
   ]
  },
  {
   "cell_type": "code",
   "execution_count": null,
   "metadata": {},
   "outputs": [
    {
     "data": {
      "text/plain": [
       "1424"
      ]
     },
     "execution_count": null,
     "metadata": {},
     "output_type": "execute_result"
    }
   ],
   "source": [
    "len(df)"
   ]
  },
  {
   "cell_type": "code",
   "execution_count": null,
   "metadata": {},
   "outputs": [
    {
     "data": {
      "text/plain": [
       "'0101000020E61000001283C0CAA165464079E9263108D455C0'"
      ]
     },
     "execution_count": null,
     "metadata": {},
     "output_type": "execute_result"
    }
   ],
   "source": [
    "df.iloc[0].point"
   ]
  },
  {
   "cell_type": "code",
   "execution_count": null,
   "metadata": {},
   "outputs": [],
   "source": [
    "df.to_csv(\"buoys_export.csv\")"
   ]
  }
 ],
 "metadata": {
  "kernelspec": {
   "display_name": "Python 3",
   "language": "python",
   "name": "python3"
  }
 },
 "nbformat": 4,
 "nbformat_minor": 2
}
