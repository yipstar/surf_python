{
 "cells": [
  {
   "cell_type": "code",
   "execution_count": 2,
   "metadata": {},
   "outputs": [],
   "source": [
    "#default_exp dag.buoy_data"
   ]
  },
  {
   "cell_type": "code",
   "execution_count": 3,
   "metadata": {},
   "outputs": [],
   "source": [
    "%reload_ext autoreload\n",
    "%autoreload 2\n",
    "%matplotlib inline"
   ]
  },
  {
   "cell_type": "code",
   "execution_count": 4,
   "metadata": {},
   "outputs": [
    {
     "name": "stdout",
     "output_type": "stream",
     "text": [
      "[2020-07-06 07:06:50,899] {settings.py:254} INFO - settings.configure_orm(): Using pool settings. pool_size=5, max_overflow=10, pool_recycle=1800, pid=12956\n"
     ]
    }
   ],
   "source": [
    "#export\n",
    "from huey.imports import *\n",
    "from huey.dag.airflow_imports import *"
   ]
  },
  {
   "cell_type": "code",
   "execution_count": 5,
   "metadata": {},
   "outputs": [],
   "source": [
    "#export\n",
    "default_args = {\n",
    "    'owner': 'airflow',\n",
    "    'depends_on_past': False,\n",
    "    'start_date': datetime(2019, 7, 24),\n",
    "    'email': ['heyhueyapp@gmail.com'],\n",
    "    'email_on_failure': True,\n",
    "    'email_on_retry': True,\n",
    "    'retries': 1,\n",
    "    'retry_delay': timedelta(minutes=5),\n",
    "    # 'queue': 'bash_queue',\n",
    "    # 'pool': 'backfill',\n",
    "    # 'priority_weight': 10,\n",
    "    # 'end_date': datetime(2016, 1, 1),\n",
    "}"
   ]
  },
  {
   "cell_type": "code",
   "execution_count": 6,
   "metadata": {},
   "outputs": [],
   "source": [
    "#export\n",
    "# @hourly\n",
    "dag = DAG(\n",
    "    'huey_import_buoy_data', \\\n",
    "    default_args=default_args, \\\n",
    "    schedule_interval=\"0 * * * *\", \\\n",
    "    catchup=False\n",
    ")"
   ]
  },
  {
   "cell_type": "code",
   "execution_count": 7,
   "metadata": {},
   "outputs": [
    {
     "data": {
      "text/plain": [
       "<DAG: huey_import_buoy_data>"
      ]
     },
     "execution_count": 7,
     "metadata": {},
     "output_type": "execute_result"
    }
   ],
   "source": [
    "dag"
   ]
  },
  {
   "cell_type": "markdown",
   "metadata": {},
   "source": [
    "# Get all active data buoys"
   ]
  },
  {
   "cell_type": "code",
   "execution_count": 8,
   "metadata": {},
   "outputs": [],
   "source": [
    "from huey.data.sql import get_db_session"
   ]
  },
  {
   "cell_type": "code",
   "execution_count": 41,
   "metadata": {},
   "outputs": [],
   "source": [
    "#export\n",
    "from huey.data.sql import get_db_engine"
   ]
  },
  {
   "cell_type": "code",
   "execution_count": 53,
   "metadata": {},
   "outputs": [],
   "source": [
    "#export\n",
    "def get_all_active_buoy_station_ids():\n",
    "    db_engine = get_db_engine()\n",
    "    df_buoys = pd.read_sql(\"select * from buoy where data_download_active = 't'\", db_engine)\n",
    "    return df_buoys.station_id"
   ]
  },
  {
   "cell_type": "code",
   "execution_count": 12,
   "metadata": {},
   "outputs": [],
   "source": [
    "#db_engine = PostgresHook(postgres_conn_id=self.db_env).get_sqlalchemy_engine(engine_kwargs=dict(poolclass=NullPool))"
   ]
  },
  {
   "cell_type": "code",
   "execution_count": 13,
   "metadata": {},
   "outputs": [],
   "source": [
    "#buoys =  session.query(Buoy).filter(Buoy.data_download_active == True).all()"
   ]
  },
  {
   "cell_type": "code",
   "execution_count": 54,
   "metadata": {},
   "outputs": [],
   "source": [
    "active_station_ids = get_all_active_buoy_station_ids()"
   ]
  },
  {
   "cell_type": "code",
   "execution_count": 55,
   "metadata": {},
   "outputs": [
    {
     "data": {
      "text/plain": [
       "95"
      ]
     },
     "execution_count": 55,
     "metadata": {},
     "output_type": "execute_result"
    }
   ],
   "source": [
    "len(active_station_ids)"
   ]
  },
  {
   "cell_type": "code",
   "execution_count": 56,
   "metadata": {},
   "outputs": [
    {
     "data": {
      "text/plain": [
       "'SMOC1'"
      ]
     },
     "execution_count": 56,
     "metadata": {},
     "output_type": "execute_result"
    }
   ],
   "source": [
    "active_station_ids[0]"
   ]
  },
  {
   "cell_type": "markdown",
   "metadata": {},
   "source": [
    "# Import realtime wave data"
   ]
  },
  {
   "cell_type": "code",
   "execution_count": 58,
   "metadata": {},
   "outputs": [],
   "source": [
    "#export\n",
    "from huey.data.importer.buoy_data import import_buoy_realtime_wave_detail"
   ]
  },
  {
   "cell_type": "code",
   "execution_count": 59,
   "metadata": {},
   "outputs": [],
   "source": [
    "#export\n",
    "def run_import_buoy_realtime_wave_detail(station_id):\n",
    "    import_buoy_realtime_wave_detail(station_id)"
   ]
  },
  {
   "cell_type": "code",
   "execution_count": 63,
   "metadata": {},
   "outputs": [],
   "source": [
    "t1 = PythonOperator(\n",
    "    task_id='import_buoy_realtime_wave_detail',\n",
    "    python_callable=run_import_buoy_realtime_wave_detail,\n",
    "    op_kwargs={'station_id': station_id},\n",
    "    dag=dag)"
   ]
  },
  {
   "cell_type": "code",
   "execution_count": 61,
   "metadata": {},
   "outputs": [],
   "source": [
    "t1.execute(context={})"
   ]
  },
  {
   "cell_type": "markdown",
   "metadata": {},
   "source": [
    "Slack is broken in 1.10.7, fix is in 1.10.8.\n",
    "FIXME: upgrade to 1.10.8 when its out."
   ]
  },
  {
   "cell_type": "code",
   "execution_count": 64,
   "metadata": {},
   "outputs": [
    {
     "name": "stdout",
     "output_type": "stream",
     "text": [
      "[2020-07-06 07:22:29,928] {settings.py:254} INFO - settings.configure_orm(): Using pool settings. pool_size=5, max_overflow=10, pool_recycle=1800, pid=13462\n",
      "[2020-07-06 07:22:30,613] {__init__.py:51} INFO - Using executor SequentialExecutor\n",
      "[2020-07-06 07:22:30,613] {dagbag.py:403} INFO - Filling up the DagBag from /Users/yipstar/airflow/dags\n",
      "[2020-07-06 07:22:31,354] {dagbag.py:246} ERROR - Failed to import: /Users/yipstar/airflow/dags/huey_dags/buoy_data_dag.py\n",
      "Traceback (most recent call last):\n",
      "  File \"/Users/yipstar/anaconda/envs/prophet/lib/python3.7/site-packages/airflow/models/dagbag.py\", line 243, in process_file\n",
      "    m = imp.load_source(mod_name, filepath)\n",
      "  File \"/Users/yipstar/anaconda/envs/prophet/lib/python3.7/imp.py\", line 171, in load_source\n",
      "    module = _load(spec)\n",
      "  File \"<frozen importlib._bootstrap>\", line 696, in _load\n",
      "  File \"<frozen importlib._bootstrap>\", line 677, in _load_unlocked\n",
      "  File \"<frozen importlib._bootstrap_external>\", line 728, in exec_module\n",
      "  File \"<frozen importlib._bootstrap>\", line 219, in _call_with_frames_removed\n",
      "  File \"/Users/yipstar/airflow/dags/huey_dags/buoy_data_dag.py\", line 8, in <module>\n",
      "    from huey.dag.buoy_data import *\n",
      "  File \"/Users/yipstar/real_projects/surf_python/huey/dag/buoy_data.py\", line 52, in <module>\n",
      "    df_buoys = pd.read_sql(\"select * from buoy where data_download_active = 't'\", db_engine)\n",
      "NameError: name 'db_engine' is not defined\n",
      "\n",
      "\n",
      "-------------------------------------------------------------------\n",
      "DAGS\n",
      "-------------------------------------------------------------------\n",
      "\n",
      "\n"
     ]
    }
   ],
   "source": [
    "!airflow list_dags"
   ]
  },
  {
   "cell_type": "code",
   "execution_count": 23,
   "metadata": {},
   "outputs": [
    {
     "name": "stdout",
     "output_type": "stream",
     "text": [
      "[2020-07-06 07:08:51,137] {settings.py:254} INFO - settings.configure_orm(): Using pool settings. pool_size=5, max_overflow=10, pool_recycle=1800, pid=13023\n",
      "[2020-07-06 07:08:51,770] {__init__.py:51} INFO - Using executor SequentialExecutor\n",
      "[2020-07-06 07:08:51,770] {dagbag.py:403} INFO - Filling up the DagBag from /Users/yipstar/airflow/dags\n",
      "import_buoy_raw_spectral_wave_data\n",
      "import_buoy_realtime_wave_detail\n",
      "send_slack_success_alert\n"
     ]
    }
   ],
   "source": [
    "!airflow list_tasks huey_import_buoy_data"
   ]
  },
  {
   "cell_type": "code",
   "execution_count": 34,
   "metadata": {},
   "outputs": [],
   "source": [
    "#for i, station_id in df_buoys.station_id.iteritems():\n",
    "    #print(station_id)"
   ]
  },
  {
   "cell_type": "markdown",
   "metadata": {},
   "source": [
    "## All Active Buoys"
   ]
  },
  {
   "cell_type": "code",
   "execution_count": 78,
   "metadata": {},
   "outputs": [
    {
     "name": "stdout",
     "output_type": "stream",
     "text": [
      "[2020-07-06 07:31:53,018] {base_hook.py:84} INFO - Using connection to: id: huey_dev. Host: localhost, Port: 54320, Schema: huey_dev, Login: postgres, Password: XXXXXXXX, extra: None\n"
     ]
    }
   ],
   "source": [
    "#export\n",
    "\n",
    "import_buoy_realtime_wave_detail_tasks = []\n",
    "active_station_ids = get_all_active_buoy_station_ids()\n",
    "\n",
    "for station_id in active_station_ids:\n",
    "    \n",
    "    task_id = f\"import_buoy_realtime_wave_detail-{station_id}\"\n",
    "\n",
    "    task = PythonOperator(task_id=task_id,\n",
    "                          python_callable=run_import_buoy_realtime_wave_detail,\n",
    "                          op_kwargs={'station_id': station_id},\n",
    "                          dag=dag)\n",
    "    \n",
    "    import_buoy_realtime_wave_detail_tasks.append(task)"
   ]
  },
  {
   "cell_type": "code",
   "execution_count": 37,
   "metadata": {},
   "outputs": [],
   "source": [
    "import_buoy_realtime_wave_detail_tasks;"
   ]
  },
  {
   "cell_type": "code",
   "execution_count": 38,
   "metadata": {},
   "outputs": [
    {
     "name": "stdout",
     "output_type": "stream",
     "text": [
      "[2020-07-06 07:16:59,494] {settings.py:254} INFO - settings.configure_orm(): Using pool settings. pool_size=5, max_overflow=10, pool_recycle=1800, pid=13281\n",
      "[2020-07-06 07:17:00,487] {__init__.py:51} INFO - Using executor SequentialExecutor\n",
      "[2020-07-06 07:17:00,487] {dagbag.py:403} INFO - Filling up the DagBag from /Users/yipstar/airflow/dags\n",
      "import_buoy_raw_spectral_wave_data\n",
      "import_buoy_realtime_wave_detail\n",
      "send_slack_success_alert\n"
     ]
    }
   ],
   "source": [
    "!airflow list_tasks huey_import_buoy_data"
   ]
  },
  {
   "cell_type": "markdown",
   "metadata": {
    "heading_collapsed": true
   },
   "source": [
    "# import_buoy_raw_spectral_wave_data"
   ]
  },
  {
   "cell_type": "code",
   "execution_count": null,
   "metadata": {
    "hidden": true
   },
   "outputs": [],
   "source": [
    "#export\n",
    "from huey.data.importer.buoy_data import import_buoy_raw_spectral_wave_data\n",
    "\n",
    "def run_import_buoy_raw_spectral_wave_data():\n",
    "    station_id = \"46025\"\n",
    "    import_buoy_raw_spectral_wave_data(station_id)"
   ]
  },
  {
   "cell_type": "code",
   "execution_count": null,
   "metadata": {
    "hidden": true
   },
   "outputs": [
    {
     "name": "stdout",
     "output_type": "stream",
     "text": [
      "[2020-01-22 13:33:14,079] {base_hook.py:84} INFO - Using connection to: id: huey_dev. Host: localhost, Port: None, Schema: huey_dev, Login: postgres, Password: XXXXXXXX, extra: None\n",
      "observation for date: 2020-01-22 21:00:00+00:00 already present, skipping.\n",
      "import complete\n"
     ]
    }
   ],
   "source": [
    "data = run_import_buoy_raw_spectral_wave_data()"
   ]
  },
  {
   "cell_type": "code",
   "execution_count": null,
   "metadata": {
    "hidden": true
   },
   "outputs": [],
   "source": [
    "#export\n",
    "t2 = PythonOperator(\n",
    "    task_id='import_buoy_raw_spectral_wave_data',\n",
    "    python_callable=run_import_buoy_raw_spectral_wave_data,\n",
    "    dag=dag)"
   ]
  },
  {
   "cell_type": "code",
   "execution_count": null,
   "metadata": {
    "hidden": true
   },
   "outputs": [
    {
     "name": "stdout",
     "output_type": "stream",
     "text": [
      "observation for date: 2020-01-22 21:00:00+00:00 already present, skipping.\n",
      "import complete\n"
     ]
    }
   ],
   "source": [
    "t2.execute(context={})"
   ]
  },
  {
   "cell_type": "markdown",
   "metadata": {},
   "source": [
    "# Slack Alert"
   ]
  },
  {
   "cell_type": "code",
   "execution_count": 73,
   "metadata": {},
   "outputs": [],
   "source": [
    "#export\n",
    "slack_token = BaseHook.get_connection('slack').password\n",
    "slack_success_task = SlackAPIPostOperator(\n",
    "    task_id='send_slack_success_alert',\n",
    "    token=slack_token,\n",
    "    text='Buoy Data Import Success.',\n",
    "    channel='#huey_data_import',\n",
    "    username='heyhueyapp',\n",
    "    dag=dag,\n",
    "    blocks=[],\n",
    "    attachments=[]\n",
    ")"
   ]
  },
  {
   "cell_type": "code",
   "execution_count": null,
   "metadata": {},
   "outputs": [],
   "source": [
    "t3.execute(context={})"
   ]
  },
  {
   "cell_type": "code",
   "execution_count": 74,
   "metadata": {},
   "outputs": [
    {
     "data": {
      "text/plain": [
       "<Task(SlackAPIPostOperator): send_slack_success_alert>"
      ]
     },
     "execution_count": 74,
     "metadata": {},
     "output_type": "execute_result"
    }
   ],
   "source": [
    "#export\n",
    "\n",
    "import_buoy_realtime_wave_detail_tasks >> slack_success_task"
   ]
  },
  {
   "cell_type": "markdown",
   "metadata": {},
   "source": [
    "# Export"
   ]
  },
  {
   "cell_type": "code",
   "execution_count": 79,
   "metadata": {},
   "outputs": [
    {
     "name": "stdout",
     "output_type": "stream",
     "text": [
      "Converted 00_core.ipynb.\n",
      "Converted 01_data.sql.ipynb.\n",
      "Converted 02_data.importer.buoy_data.ipynb.\n",
      "Converted 03_dag.buoy_data.ipynb.\n",
      "Converted 04_data.models.buoy.ipynb.\n",
      "Converted 05_data.models.log_entry.ipynb.\n",
      "Converted 06_data.exporter.ipynb.\n"
     ]
    }
   ],
   "source": [
    "#hide\n",
    "from nbdev.export import notebook2script\n",
    "notebook2script()"
   ]
  },
  {
   "cell_type": "code",
   "execution_count": null,
   "metadata": {},
   "outputs": [],
   "source": [
    "from huey.dag.buoy_data import run_import_buoy_realtime_wave_detail\n",
    "run_import_buoy_realtime_wave_detail()"
   ]
  },
  {
   "cell_type": "code",
   "execution_count": 76,
   "metadata": {},
   "outputs": [
    {
     "name": "stderr",
     "output_type": "stream",
     "text": [
      "/Users/yipstar/anaconda/envs/prophet/lib/python3.7/site-packages/sqlalchemy/ext/declarative/clsregistry.py:129: SAWarning: This declarative base already contains a class with the same class name and module name as huey.data.models.buoy.Buoy, and will be replaced in the string-lookup table.\n",
      "  % (item.__module__, item.__name__)\n",
      "/Users/yipstar/anaconda/envs/prophet/lib/python3.7/site-packages/sqlalchemy/ext/declarative/clsregistry.py:129: SAWarning: This declarative base already contains a class with the same class name and module name as huey.data.models.buoy.BuoyRawSpectralWaveData, and will be replaced in the string-lookup table.\n",
      "  % (item.__module__, item.__name__)\n",
      "[autoreload of huey.data.models.buoy failed: Traceback (most recent call last):\n",
      "  File \"/Users/yipstar/anaconda/envs/prophet/lib/python3.7/site-packages/IPython/extensions/autoreload.py\", line 245, in check\n",
      "    superreload(m, reload, self.old_objects)\n",
      "  File \"/Users/yipstar/anaconda/envs/prophet/lib/python3.7/site-packages/IPython/extensions/autoreload.py\", line 394, in superreload\n",
      "    module = reload(module)\n",
      "  File \"/Users/yipstar/anaconda/envs/prophet/lib/python3.7/imp.py\", line 314, in reload\n",
      "    return importlib.reload(module)\n",
      "  File \"/Users/yipstar/anaconda/envs/prophet/lib/python3.7/importlib/__init__.py\", line 169, in reload\n",
      "    _bootstrap._exec(spec, module)\n",
      "  File \"<frozen importlib._bootstrap>\", line 630, in _exec\n",
      "  File \"<frozen importlib._bootstrap_external>\", line 728, in exec_module\n",
      "  File \"<frozen importlib._bootstrap>\", line 219, in _call_with_frames_removed\n",
      "  File \"/Users/yipstar/real_projects/surf_python/nbs/huey/data/models/buoy.py\", line 40, in <module>\n",
      "    class BuoyRawSpectralWaveData(Model):\n",
      "  File \"/Users/yipstar/anaconda/envs/prophet/lib/python3.7/site-packages/flask_sqlalchemy/model.py\", line 67, in __init__\n",
      "    super(NameMetaMixin, cls).__init__(name, bases, d)\n",
      "  File \"/Users/yipstar/anaconda/envs/prophet/lib/python3.7/site-packages/flask_sqlalchemy/model.py\", line 121, in __init__\n",
      "    super(BindMetaMixin, cls).__init__(name, bases, d)\n",
      "sqlalchemy.exc.InvalidRequestError: Table 'buoy_raw_spectral_wave_data' is already defined for this MetaData instance.  Specify 'extend_existing=True' to redefine options and columns on an existing Table object.\n",
      "]\n"
     ]
    },
    {
     "name": "stdout",
     "output_type": "stream",
     "text": [
      "[2020-07-06 07:29:04,030] {settings.py:254} INFO - settings.configure_orm(): Using pool settings. pool_size=5, max_overflow=10, pool_recycle=1800, pid=13741\n",
      "[2020-07-06 07:29:04,733] {__init__.py:51} INFO - Using executor SequentialExecutor\n",
      "[2020-07-06 07:29:04,734] {dagbag.py:403} INFO - Filling up the DagBag from /Users/yipstar/airflow/dags\n",
      "[2020-07-06 07:29:05,450] {base_hook.py:84} INFO - Using connection to: id: huey_dev. Host: localhost, Port: 54320, Schema: huey_dev, Login: postgres, Password: XXXXXXXX, extra: None\n",
      "\n",
      "\n",
      "-------------------------------------------------------------------\n",
      "DAGS\n",
      "-------------------------------------------------------------------\n",
      "huey_import_buoy_data\n",
      "\n"
     ]
    }
   ],
   "source": [
    "!airflow list_dags"
   ]
  },
  {
   "cell_type": "code",
   "execution_count": 77,
   "metadata": {},
   "outputs": [
    {
     "name": "stdout",
     "output_type": "stream",
     "text": [
      "[2020-07-06 07:29:06,404] {settings.py:254} INFO - settings.configure_orm(): Using pool settings. pool_size=5, max_overflow=10, pool_recycle=1800, pid=13749\n",
      "[2020-07-06 07:29:06,934] {__init__.py:51} INFO - Using executor SequentialExecutor\n",
      "[2020-07-06 07:29:06,934] {dagbag.py:403} INFO - Filling up the DagBag from /Users/yipstar/airflow/dags\n",
      "[2020-07-06 07:29:07,525] {base_hook.py:84} INFO - Using connection to: id: huey_dev. Host: localhost, Port: 54320, Schema: huey_dev, Login: postgres, Password: XXXXXXXX, extra: None\n",
      "import_buoy_raw_spectral_wave_data\n",
      "import_buoy_raw_spectral_wave_data-46011\n",
      "import_buoy_raw_spectral_wave_data-46023\n",
      "import_buoy_raw_spectral_wave_data-46025\n",
      "import_buoy_raw_spectral_wave_data-46028\n",
      "import_buoy_raw_spectral_wave_data-46042\n",
      "import_buoy_raw_spectral_wave_data-46044\n",
      "import_buoy_raw_spectral_wave_data-46047\n",
      "import_buoy_raw_spectral_wave_data-46053\n",
      "import_buoy_raw_spectral_wave_data-46054\n",
      "import_buoy_raw_spectral_wave_data-46062\n",
      "import_buoy_raw_spectral_wave_data-46063\n",
      "import_buoy_raw_spectral_wave_data-46069\n",
      "import_buoy_raw_spectral_wave_data-46086\n",
      "import_buoy_raw_spectral_wave_data-46090\n",
      "import_buoy_raw_spectral_wave_data-46091\n",
      "import_buoy_raw_spectral_wave_data-46092\n",
      "import_buoy_raw_spectral_wave_data-46093\n",
      "import_buoy_raw_spectral_wave_data-46114\n",
      "import_buoy_raw_spectral_wave_data-46215\n",
      "import_buoy_raw_spectral_wave_data-46216\n",
      "import_buoy_raw_spectral_wave_data-46217\n",
      "import_buoy_raw_spectral_wave_data-46218\n",
      "import_buoy_raw_spectral_wave_data-46219\n",
      "import_buoy_raw_spectral_wave_data-46220\n",
      "import_buoy_raw_spectral_wave_data-46221\n",
      "import_buoy_raw_spectral_wave_data-46222\n",
      "import_buoy_raw_spectral_wave_data-46223\n",
      "import_buoy_raw_spectral_wave_data-46224\n",
      "import_buoy_raw_spectral_wave_data-46225\n",
      "import_buoy_raw_spectral_wave_data-46226\n",
      "import_buoy_raw_spectral_wave_data-46227\n",
      "import_buoy_raw_spectral_wave_data-46228\n",
      "import_buoy_raw_spectral_wave_data-46230\n",
      "import_buoy_raw_spectral_wave_data-46231\n",
      "import_buoy_raw_spectral_wave_data-46232\n",
      "import_buoy_raw_spectral_wave_data-46233\n",
      "import_buoy_raw_spectral_wave_data-46234\n",
      "import_buoy_raw_spectral_wave_data-46235\n",
      "import_buoy_raw_spectral_wave_data-46236\n",
      "import_buoy_raw_spectral_wave_data-46238\n",
      "import_buoy_raw_spectral_wave_data-46239\n",
      "import_buoy_raw_spectral_wave_data-46240\n",
      "import_buoy_raw_spectral_wave_data-46241\n",
      "import_buoy_raw_spectral_wave_data-46242\n",
      "import_buoy_raw_spectral_wave_data-46245\n",
      "import_buoy_raw_spectral_wave_data-46249\n",
      "import_buoy_raw_spectral_wave_data-46250\n",
      "import_buoy_raw_spectral_wave_data-46251\n",
      "import_buoy_raw_spectral_wave_data-46252\n",
      "import_buoy_raw_spectral_wave_data-46253\n",
      "import_buoy_raw_spectral_wave_data-46254\n",
      "import_buoy_raw_spectral_wave_data-46255\n",
      "import_buoy_raw_spectral_wave_data-46256\n",
      "import_buoy_raw_spectral_wave_data-46257\n",
      "import_buoy_raw_spectral_wave_data-46258\n",
      "import_buoy_raw_spectral_wave_data-46259\n",
      "import_buoy_raw_spectral_wave_data-46262\n",
      "import_buoy_raw_spectral_wave_data-46412\n",
      "import_buoy_raw_spectral_wave_data-46490\n",
      "import_buoy_raw_spectral_wave_data-AGXC1\n",
      "import_buoy_raw_spectral_wave_data-BAXC1\n",
      "import_buoy_raw_spectral_wave_data-CPXC1\n",
      "import_buoy_raw_spectral_wave_data-EAZC1\n",
      "import_buoy_raw_spectral_wave_data-EHSC1\n",
      "import_buoy_raw_spectral_wave_data-ELQC1\n",
      "import_buoy_raw_spectral_wave_data-ELXC1\n",
      "import_buoy_raw_spectral_wave_data-EVMC1\n",
      "import_buoy_raw_spectral_wave_data-HRVC1\n",
      "import_buoy_raw_spectral_wave_data-ICAC1\n",
      "import_buoy_raw_spectral_wave_data-IIWC1\n",
      "import_buoy_raw_spectral_wave_data-LJAC1\n",
      "import_buoy_raw_spectral_wave_data-LJPC1\n",
      "import_buoy_raw_spectral_wave_data-MBXC1\n",
      "import_buoy_raw_spectral_wave_data-MEYC1\n",
      "import_buoy_raw_spectral_wave_data-MLSC1\n",
      "import_buoy_raw_spectral_wave_data-MTYC1\n",
      "import_buoy_raw_spectral_wave_data-MYXC1\n",
      "import_buoy_raw_spectral_wave_data-NBBA3\n",
      "import_buoy_raw_spectral_wave_data-NLMA3\n",
      "import_buoy_raw_spectral_wave_data-NTBC1\n",
      "import_buoy_raw_spectral_wave_data-OHBC1\n",
      "import_buoy_raw_spectral_wave_data-PFDC1\n",
      "import_buoy_raw_spectral_wave_data-PFXC1\n",
      "import_buoy_raw_spectral_wave_data-PRJC1\n",
      "import_buoy_raw_spectral_wave_data-PSLC1\n",
      "import_buoy_raw_spectral_wave_data-PSXC1\n",
      "import_buoy_raw_spectral_wave_data-PTGC1\n",
      "import_buoy_raw_spectral_wave_data-PXAC1\n",
      "import_buoy_raw_spectral_wave_data-SBBN2\n",
      "import_buoy_raw_spectral_wave_data-SDBC1\n",
      "import_buoy_raw_spectral_wave_data-SLMN2\n",
      "import_buoy_raw_spectral_wave_data-SMOC1\n",
      "import_buoy_raw_spectral_wave_data-TIQC1\n",
      "import_buoy_raw_spectral_wave_data-TIXC1\n",
      "import_buoy_raw_spectral_wave_data-VBBA3\n",
      "send_slack_success_alert\n"
     ]
    }
   ],
   "source": [
    "!airflow list_tasks huey_import_buoy_data"
   ]
  }
 ],
 "metadata": {
  "kernelspec": {
   "display_name": "Python 3",
   "language": "python",
   "name": "python3"
  },
  "language_info": {
   "codemirror_mode": {
    "name": "ipython",
    "version": 3
   },
   "file_extension": ".py",
   "mimetype": "text/x-python",
   "name": "python",
   "nbconvert_exporter": "python",
   "pygments_lexer": "ipython3",
   "version": "3.7.6"
  }
 },
 "nbformat": 4,
 "nbformat_minor": 2
}
