{
 "cells": [
  {
   "cell_type": "code",
   "execution_count": null,
   "metadata": {},
   "outputs": [],
   "source": [
    "#default_exp dag.buoy_data"
   ]
  },
  {
   "cell_type": "code",
   "execution_count": null,
   "metadata": {},
   "outputs": [],
   "source": [
    "%reload_ext autoreload\n",
    "%autoreload 2\n",
    "%matplotlib inline"
   ]
  },
  {
   "cell_type": "code",
   "execution_count": null,
   "metadata": {},
   "outputs": [
    {
     "name": "stdout",
     "output_type": "stream",
     "text": [
      "[2020-02-07 09:11:08,876] {settings.py:254} INFO - settings.configure_orm(): Using pool settings. pool_size=5, max_overflow=10, pool_recycle=1800, pid=24528\n"
     ]
    }
   ],
   "source": [
    "#export\n",
    "from huey.imports import *\n",
    "from huey.dag.airflow_imports import *"
   ]
  },
  {
   "cell_type": "code",
   "execution_count": null,
   "metadata": {},
   "outputs": [],
   "source": [
    "#export\n",
    "default_args = {\n",
    "    'owner': 'airflow',\n",
    "    'depends_on_past': False,\n",
    "    'start_date': datetime(2019, 7, 24),\n",
    "    'email': ['heyhueyapp@gmail.com'],\n",
    "    'email_on_failure': True,\n",
    "    'email_on_retry': True,\n",
    "    'retries': 1,\n",
    "    'retry_delay': timedelta(minutes=5),\n",
    "    # 'queue': 'bash_queue',\n",
    "    # 'pool': 'backfill',\n",
    "    # 'priority_weight': 10,\n",
    "    # 'end_date': datetime(2016, 1, 1),\n",
    "}"
   ]
  },
  {
   "cell_type": "code",
   "execution_count": null,
   "metadata": {},
   "outputs": [],
   "source": [
    "#export\n",
    "# @hourly\n",
    "dag = DAG(\n",
    "    'huey_import_buoy_data', \\\n",
    "    default_args=default_args, \\\n",
    "    schedule_interval=\"0 * * * *\", \\\n",
    "    catchup=False\n",
    ")"
   ]
  },
  {
   "cell_type": "code",
   "execution_count": null,
   "metadata": {},
   "outputs": [
    {
     "data": {
      "text/plain": [
       "<DAG: huey_import_buoy_data>"
      ]
     },
     "execution_count": null,
     "metadata": {},
     "output_type": "execute_result"
    }
   ],
   "source": [
    "dag"
   ]
  },
  {
   "cell_type": "markdown",
   "metadata": {},
   "source": [
    "# Import realtime wave data"
   ]
  },
  {
   "cell_type": "code",
   "execution_count": null,
   "metadata": {},
   "outputs": [],
   "source": [
    "#export\n",
    "from huey.data.importer.buoy_data import import_buoy_realtime_wave_detail"
   ]
  },
  {
   "cell_type": "code",
   "execution_count": null,
   "metadata": {},
   "outputs": [],
   "source": [
    "#export\n",
    "def run_import_buoy_realtime_wave_detail():\n",
    "    station_id = \"46025\"\n",
    "    import_buoy_realtime_wave_detail(station_id)"
   ]
  },
  {
   "cell_type": "code",
   "execution_count": null,
   "metadata": {},
   "outputs": [],
   "source": [
    "df = run_import_buoy_realtime_wave_detail()"
   ]
  },
  {
   "cell_type": "code",
   "execution_count": null,
   "metadata": {},
   "outputs": [],
   "source": [
    "#export\n",
    "t1 = PythonOperator(\n",
    "    task_id='import_buoy_realtime_wave_detail',\n",
    "    python_callable=run_import_buoy_realtime_wave_detail,\n",
    "    dag=dag)"
   ]
  },
  {
   "cell_type": "code",
   "execution_count": null,
   "metadata": {},
   "outputs": [],
   "source": [
    "t1.execute(context={})"
   ]
  },
  {
   "cell_type": "markdown",
   "metadata": {},
   "source": [
    "Slack is broken in 1.10.7, fix is in 1.10.8.\n",
    "FIXME: upgrade to 1.10.8 when its out."
   ]
  },
  {
   "cell_type": "code",
   "execution_count": null,
   "metadata": {},
   "outputs": [
    {
     "name": "stdout",
     "output_type": "stream",
     "text": [
      "[2020-02-07 09:33:48,241] {settings.py:254} INFO - settings.configure_orm(): Using pool settings. pool_size=5, max_overflow=10, pool_recycle=1800, pid=4855\n",
      "[2020-02-07 09:33:48,768] {__init__.py:51} INFO - Using executor LocalExecutor\n",
      "[2020-02-07 09:33:48,769] {dagbag.py:403} INFO - Filling up the DagBag from /home/yipstar/airflow/dags\n",
      "\n",
      "\n",
      "-------------------------------------------------------------------\n",
      "DAGS\n",
      "-------------------------------------------------------------------\n",
      "huey_import_buoy_data\n",
      "\n"
     ]
    }
   ],
   "source": [
    "!airflow list_dags"
   ]
  },
  {
   "cell_type": "code",
   "execution_count": null,
   "metadata": {},
   "outputs": [
    {
     "name": "stdout",
     "output_type": "stream",
     "text": [
      "[2020-02-07 09:33:51,318] {settings.py:254} INFO - settings.configure_orm(): Using pool settings. pool_size=5, max_overflow=10, pool_recycle=1800, pid=4893\n",
      "[2020-02-07 09:33:51,849] {__init__.py:51} INFO - Using executor LocalExecutor\n",
      "[2020-02-07 09:33:51,849] {dagbag.py:403} INFO - Filling up the DagBag from /home/yipstar/airflow/dags\n",
      "import_buoy_raw_spectral_wave_data\n",
      "import_buoy_realtime_wave_detail\n"
     ]
    }
   ],
   "source": [
    "!airflow list_tasks huey_import_buoy_data"
   ]
  },
  {
   "cell_type": "markdown",
   "metadata": {},
   "source": [
    "# import_buoy_raw_spectral_wave_data"
   ]
  },
  {
   "cell_type": "code",
   "execution_count": null,
   "metadata": {},
   "outputs": [],
   "source": [
    "#export\n",
    "from huey.data.importer.buoy_data import import_buoy_raw_spectral_wave_data\n",
    "\n",
    "def run_import_buoy_raw_spectral_wave_data():\n",
    "    station_id = \"46025\"\n",
    "    import_buoy_raw_spectral_wave_data(station_id)"
   ]
  },
  {
   "cell_type": "code",
   "execution_count": null,
   "metadata": {},
   "outputs": [
    {
     "name": "stdout",
     "output_type": "stream",
     "text": [
      "[2020-01-22 13:33:14,079] {base_hook.py:84} INFO - Using connection to: id: huey_dev. Host: localhost, Port: None, Schema: huey_dev, Login: postgres, Password: XXXXXXXX, extra: None\n",
      "observation for date: 2020-01-22 21:00:00+00:00 already present, skipping.\n",
      "import complete\n"
     ]
    }
   ],
   "source": [
    "data = run_import_buoy_raw_spectral_wave_data()"
   ]
  },
  {
   "cell_type": "code",
   "execution_count": null,
   "metadata": {},
   "outputs": [],
   "source": [
    "#export\n",
    "t2 = PythonOperator(\n",
    "    task_id='import_buoy_raw_spectral_wave_data',\n",
    "    python_callable=run_import_buoy_raw_spectral_wave_data,\n",
    "    dag=dag)"
   ]
  },
  {
   "cell_type": "code",
   "execution_count": null,
   "metadata": {},
   "outputs": [
    {
     "name": "stdout",
     "output_type": "stream",
     "text": [
      "observation for date: 2020-01-22 21:00:00+00:00 already present, skipping.\n",
      "import complete\n"
     ]
    }
   ],
   "source": [
    "t2.execute(context={})"
   ]
  },
  {
   "cell_type": "markdown",
   "metadata": {},
   "source": [
    "# Slack Alert"
   ]
  },
  {
   "cell_type": "code",
   "execution_count": null,
   "metadata": {},
   "outputs": [
    {
     "name": "stderr",
     "output_type": "stream",
     "text": [
      "/home/yipstar/miniconda3/envs/prophet/lib/python3.7/site-packages/sqlalchemy/ext/declarative/clsregistry.py:129: SAWarning: This declarative base already contains a class with the same class name and module name as huey.data.models.buoy.Buoy, and will be replaced in the string-lookup table.\n",
      "  % (item.__module__, item.__name__)\n",
      "/home/yipstar/miniconda3/envs/prophet/lib/python3.7/site-packages/sqlalchemy/ext/declarative/clsregistry.py:129: SAWarning: This declarative base already contains a class with the same class name and module name as huey.data.models.buoy.BuoyRawSpectralWaveData, and will be replaced in the string-lookup table.\n",
      "  % (item.__module__, item.__name__)\n",
      "[autoreload of huey.data.models.buoy failed: Traceback (most recent call last):\n",
      "  File \"/home/yipstar/miniconda3/envs/prophet/lib/python3.7/site-packages/IPython/extensions/autoreload.py\", line 245, in check\n",
      "    superreload(m, reload, self.old_objects)\n",
      "  File \"/home/yipstar/miniconda3/envs/prophet/lib/python3.7/site-packages/IPython/extensions/autoreload.py\", line 394, in superreload\n",
      "    module = reload(module)\n",
      "  File \"/home/yipstar/miniconda3/envs/prophet/lib/python3.7/imp.py\", line 314, in reload\n",
      "    return importlib.reload(module)\n",
      "  File \"/home/yipstar/miniconda3/envs/prophet/lib/python3.7/importlib/__init__.py\", line 169, in reload\n",
      "    _bootstrap._exec(spec, module)\n",
      "  File \"<frozen importlib._bootstrap>\", line 630, in _exec\n",
      "  File \"<frozen importlib._bootstrap_external>\", line 728, in exec_module\n",
      "  File \"<frozen importlib._bootstrap>\", line 219, in _call_with_frames_removed\n",
      "  File \"/home/yipstar/projects/surf_python/nbs/huey/data/models/buoy.py\", line 40, in <module>\n",
      "    class BuoyRawSpectralWaveData(Model):\n",
      "  File \"/home/yipstar/miniconda3/envs/prophet/lib/python3.7/site-packages/flask_sqlalchemy/model.py\", line 67, in __init__\n",
      "    super(NameMetaMixin, cls).__init__(name, bases, d)\n",
      "  File \"/home/yipstar/miniconda3/envs/prophet/lib/python3.7/site-packages/flask_sqlalchemy/model.py\", line 121, in __init__\n",
      "    super(BindMetaMixin, cls).__init__(name, bases, d)\n",
      "sqlalchemy.exc.InvalidRequestError: Table 'buoy_raw_spectral_wave_data' is already defined for this MetaData instance.  Specify 'extend_existing=True' to redefine options and columns on an existing Table object.\n",
      "]\n"
     ]
    }
   ],
   "source": [
    "#export\n",
    "slack_token = BaseHook.get_connection('slack').password\n",
    "t3 = SlackAPIPostOperator(\n",
    "    task_id='send_slack_success_alert',\n",
    "    token=slack_token,\n",
    "    text='Buoy Data Import Success.',\n",
    "    channel='#huey_data_import',\n",
    "    username='heyhueyapp',\n",
    "    dag=dag,\n",
    "    blocks=[],\n",
    "    attachments=[]\n",
    ")"
   ]
  },
  {
   "cell_type": "code",
   "execution_count": null,
   "metadata": {},
   "outputs": [],
   "source": [
    "t3.execute(context={})"
   ]
  },
  {
   "cell_type": "markdown",
   "metadata": {},
   "source": [
    "# Export"
   ]
  },
  {
   "cell_type": "code",
   "execution_count": null,
   "metadata": {},
   "outputs": [
    {
     "name": "stdout",
     "output_type": "stream",
     "text": [
      "Converted 00_core.ipynb.\n",
      "Converted 01_data.sql.ipynb.\n",
      "Converted 02_data.importer.buoy_data.ipynb.\n",
      "Converted 03_dag.buoy_data.ipynb.\n",
      "Converted 04_data.models.buoy.ipynb.\n"
     ]
    }
   ],
   "source": [
    "#hide\n",
    "from nbdev.export import notebook2script\n",
    "notebook2script()"
   ]
  },
  {
   "cell_type": "code",
   "execution_count": null,
   "metadata": {},
   "outputs": [],
   "source": [
    "from huey.dag.buoy_data import run_import_buoy_realtime_wave_detail\n",
    "run_import_buoy_realtime_wave_detail()"
   ]
  },
  {
   "cell_type": "code",
   "execution_count": null,
   "metadata": {},
   "outputs": [
    {
     "name": "stdout",
     "output_type": "stream",
     "text": [
      "[2020-01-22 13:33:55,859] {settings.py:254} INFO - settings.configure_orm(): Using pool settings. pool_size=5, max_overflow=10, pool_recycle=1800, pid=31908\n",
      "[2020-01-22 13:33:56,440] {__init__.py:51} INFO - Using executor SequentialExecutor\n",
      "[2020-01-22 13:33:56,441] {dagbag.py:403} INFO - Filling up the DagBag from /home/yipstar/airflow/dags\n",
      "\n",
      "\n",
      "-------------------------------------------------------------------\n",
      "DAGS\n",
      "-------------------------------------------------------------------\n",
      "huey_import_buoy_data\n",
      "\n"
     ]
    }
   ],
   "source": [
    "!airflow list_dags"
   ]
  },
  {
   "cell_type": "code",
   "execution_count": null,
   "metadata": {},
   "outputs": [
    {
     "name": "stdout",
     "output_type": "stream",
     "text": [
      "[2020-01-22 13:34:01,417] {settings.py:254} INFO - settings.configure_orm(): Using pool settings. pool_size=5, max_overflow=10, pool_recycle=1800, pid=31947\n",
      "[2020-01-22 13:34:01,945] {__init__.py:51} INFO - Using executor SequentialExecutor\n",
      "[2020-01-22 13:34:01,945] {dagbag.py:403} INFO - Filling up the DagBag from /home/yipstar/airflow/dags\n",
      "import_buoy_raw_spectral_wave_data\n",
      "import_buoy_realtime_wave_detail\n"
     ]
    }
   ],
   "source": [
    "!airflow list_tasks huey_import_buoy_data"
   ]
  }
 ],
 "metadata": {
  "kernelspec": {
   "display_name": "Python 3",
   "language": "python",
   "name": "python3"
  }
 },
 "nbformat": 4,
 "nbformat_minor": 2
}
